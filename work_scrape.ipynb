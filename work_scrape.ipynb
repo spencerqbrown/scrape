{
 "cells": [
  {
   "cell_type": "code",
   "execution_count": 11,
   "metadata": {},
   "outputs": [],
   "source": [
    "searchTerms = [\"Company Name\", \"Address 1\", \"City\", \"State\"]\n",
    "key = \"Company ID\"\n",
    "sourceFile = \"workfile_small.xlsx\"\n",
    "indices = [17, 19]\n",
    "filePath = \"C:\\\\Users\\\\Spencer\\\\Desktop\\\\scrape\\\\py_files\\\\scrapes\""
   ]
  },
  {
   "cell_type": "code",
   "execution_count": 146,
   "metadata": {},
   "outputs": [
    {
     "name": "stdout",
     "output_type": "stream",
     "text": [
      "expecting 394 reviews\n",
      "scrolling...\n",
      "finished scrolling, found 393 reviews\n",
      "preparing to scrape location with key 1000804781\n",
      "scraped location with key 1000804781 with 393 reviews\n",
      "sum of all rows: 393\n",
      "total rows: 393\n"
     ]
    }
   ],
   "source": [
    "simpleScraper(sourceFile, searchTerms, key, indices=indices, wait=[1,2], combine=False, filePath=filePath)"
   ]
  },
  {
   "cell_type": "code",
   "execution_count": 148,
   "metadata": {},
   "outputs": [],
   "source": [
    "driver.quit()"
   ]
  },
  {
   "cell_type": "code",
   "execution_count": 12,
   "metadata": {},
   "outputs": [],
   "source": [
    "import pandas as pd\n",
    "data = {'Name':['Tom', 'nick', 'krish', 'jack'], 'Age':[20, 21, 19, 18]} \n",
    "df = pd.DataFrame(data) "
   ]
  },
  {
   "cell_type": "code",
   "execution_count": 6,
   "metadata": {},
   "outputs": [],
   "source": [
    "url = \"https://www.google.com/search?q=Pizza Hut+10021004 Chestnut St+EMMAUS+PA\"\n",
    "driver = webdriver.Chrome('./chromedriver')"
   ]
  },
  {
   "cell_type": "code",
   "execution_count": 7,
   "metadata": {},
   "outputs": [],
   "source": [
    "driver.get(url)\n",
    "addr = driver.find_elements_by_xpath(\"//span[@class='LrzXr']\")"
   ]
  },
  {
   "cell_type": "code",
   "execution_count": 20,
   "metadata": {},
   "outputs": [],
   "source": [
    "indices = [0,2]\n",
    "age_final = [23, 25]"
   ]
  },
  {
   "cell_type": "code",
   "execution_count": 15,
   "metadata": {},
   "outputs": [
    {
     "data": {
      "text/plain": [
       "'es'"
      ]
     },
     "execution_count": 15,
     "metadata": {},
     "output_type": "execute_result"
    }
   ],
   "source": [
    "filePath[-2:]"
   ]
  },
  {
   "cell_type": "code",
   "execution_count": 19,
   "metadata": {},
   "outputs": [
    {
     "data": {
      "text/plain": [
       "'C:\\\\Users\\\\Spencer\\\\Desktop\\\\scrape\\\\py_files\\\\scrapes\\\\'"
      ]
     },
     "execution_count": 19,
     "metadata": {},
     "output_type": "execute_result"
    }
   ],
   "source": [
    "filePath + \"\\\\\""
   ]
  },
  {
   "cell_type": "code",
   "execution_count": 20,
   "metadata": {},
   "outputs": [],
   "source": [
    "import openpyxl\n",
    "import pandas as pd"
   ]
  },
  {
   "cell_type": "code",
   "execution_count": 21,
   "metadata": {},
   "outputs": [],
   "source": [
    "workfile = pd.read_excel(\"workfile.xlsx\")"
   ]
  },
  {
   "cell_type": "code",
   "execution_count": 103,
   "metadata": {},
   "outputs": [],
   "source": [
    "work_trimmed = workfile[workfile[\"Company ID\"].notnull()]"
   ]
  },
  {
   "cell_type": "code",
   "execution_count": 86,
   "metadata": {},
   "outputs": [],
   "source": [
    "import numpy as np"
   ]
  },
  {
   "cell_type": "code",
   "execution_count": 105,
   "metadata": {},
   "outputs": [],
   "source": [
    "dfs = np.array_split(work_trimmed, len(work_trimmed)/500)\n",
    "for df in dfs:\n",
    "    first_index = str(df.first_valid_index())\n",
    "    last_index = str(df.last_valid_index())\n",
    "    filename = \"workfile_\" + first_index + \"_\" + last_index + \".xlsx\"\n",
    "    df.to_excel(filename,index=False)"
   ]
  },
  {
   "cell_type": "code",
   "execution_count": 102,
   "metadata": {},
   "outputs": [
    {
     "data": {
      "text/plain": [
       "'1291'"
      ]
     },
     "execution_count": 102,
     "metadata": {},
     "output_type": "execute_result"
    }
   ],
   "source": [
    "str(dfs[0].last_valid_index())"
   ]
  },
  {
   "cell_type": "code",
   "execution_count": 98,
   "metadata": {},
   "outputs": [
    {
     "data": {
      "text/plain": [
       "10"
      ]
     },
     "execution_count": 98,
     "metadata": {},
     "output_type": "execute_result"
    }
   ],
   "source": [
    "len(dfs)"
   ]
  },
  {
   "cell_type": "code",
   "execution_count": 107,
   "metadata": {},
   "outputs": [],
   "source": [
    "# 9/29/20 3:21 scrape\n",
    "# 256-306 (50 locations)\n",
    "searchTerms = [\"Company Name\", \"Address 1\", \"City\", \"State\"]\n",
    "key = \"Company ID\"\n",
    "sourceFile = \"workfile_530_1059.xlsx\"\n",
    "indices = list(range(256,307))\n",
    "filePath = \"C:\\\\Users\\\\Spencer\\\\Desktop\\\\scrape\\\\py_files\\\\scrapes\"\n",
    "# simpleScraper(sourceFile=sourceFile, searchTerms=searchTerms, key=key, indices=indices, wait=[1,2], combine=False, statusCol=\"Status\", filePath=filePath)"
   ]
  },
  {
   "cell_type": "code",
   "execution_count": 106,
   "metadata": {},
   "outputs": [
    {
     "data": {
      "text/plain": [
       "529"
      ]
     },
     "execution_count": 106,
     "metadata": {},
     "output_type": "execute_result"
    }
   ],
   "source": [
    "list(range(256,530))[-1]"
   ]
  },
  {
   "cell_type": "code",
   "execution_count": 2,
   "metadata": {},
   "outputs": [],
   "source": [
    "import pandas as pd"
   ]
  },
  {
   "cell_type": "code",
   "execution_count": 10,
   "metadata": {},
   "outputs": [],
   "source": [
    "anthony = pd.read_csv(\"./py_files/anthony.csv\")"
   ]
  },
  {
   "cell_type": "code",
   "execution_count": 13,
   "metadata": {},
   "outputs": [],
   "source": [
    "df[\"Empty\"] = \"\""
   ]
  },
  {
   "cell_type": "code",
   "execution_count": 14,
   "metadata": {},
   "outputs": [
    {
     "output_type": "execute_result",
     "data": {
      "text/plain": "    Name  Age Empty\n0    Tom   20      \n1   nick   21      \n2  krish   19      \n3   jack   18      ",
      "text/html": "<div>\n<style scoped>\n    .dataframe tbody tr th:only-of-type {\n        vertical-align: middle;\n    }\n\n    .dataframe tbody tr th {\n        vertical-align: top;\n    }\n\n    .dataframe thead th {\n        text-align: right;\n    }\n</style>\n<table border=\"1\" class=\"dataframe\">\n  <thead>\n    <tr style=\"text-align: right;\">\n      <th></th>\n      <th>Name</th>\n      <th>Age</th>\n      <th>Empty</th>\n    </tr>\n  </thead>\n  <tbody>\n    <tr>\n      <th>0</th>\n      <td>Tom</td>\n      <td>20</td>\n      <td></td>\n    </tr>\n    <tr>\n      <th>1</th>\n      <td>nick</td>\n      <td>21</td>\n      <td></td>\n    </tr>\n    <tr>\n      <th>2</th>\n      <td>krish</td>\n      <td>19</td>\n      <td></td>\n    </tr>\n    <tr>\n      <th>3</th>\n      <td>jack</td>\n      <td>18</td>\n      <td></td>\n    </tr>\n  </tbody>\n</table>\n</div>"
     },
     "metadata": {},
     "execution_count": 14
    }
   ],
   "source": [
    "df"
   ]
  },
  {
   "cell_type": "code",
   "execution_count": 15,
   "metadata": {},
   "outputs": [],
   "source": [
    "anthony[\"Status\"]=\"\""
   ]
  },
  {
   "cell_type": "code",
   "execution_count": 16,
   "metadata": {},
   "outputs": [],
   "source": [
    "anthony.to_csv(\"./py_files/anthony.csv\", index=False)"
   ]
  },
  {
   "cell_type": "code",
   "execution_count": 21,
   "metadata": {},
   "outputs": [],
   "source": [
    "# anthony's scrape\n",
    "searchTerms = [\"Name\", \"Street_Address\", \"City\", \"State\"]\n",
    "key = \"Keyword\"\n",
    "sourceFile = \"anthony.csv\"\n",
    "indices = list(range(0,64))\n",
    "filePath = \"/home/spencer/Documents/Projects/scrape/py_files/anthony_scrapes\"\n",
    "# failed after 40 scrapes"
   ]
  },
  {
   "cell_type": "code",
   "execution_count": 2,
   "metadata": {},
   "outputs": [],
   "source": [
    "# second round of anthony scrapes\n",
    "searchTerms = [\"Name\", \"Street_Address\", \"City\", \"State\"]\n",
    "key = \"Keyword\"\n",
    "sourceFile = \"anthony.csv\"\n",
    "indices = list(range(40,64))\n",
    "filePath = \"/home/spencer/Documents/Projects/scrape/py_files/anthony_scrapes\"\n",
    "# simpleScraper(sourceFile=sourceFile, searchTerms=searchTerms,key=key,indices=indices,wait=[0.5,1.5],combine=False,statusCol=\"Status\",filePath=filePath)"
   ]
  },
  {
   "cell_type": "code",
   "execution_count": null,
   "metadata": {},
   "outputs": [],
   "source": [
    "# one more anthony scrape, last was successful but I missed a location\n",
    "searchTerms = [\"Name\", \"Street_Address\", \"City\", \"State\"]\n",
    "key = \"Keyword\"\n",
    "sourceFile = \"anthony.csv\"\n",
    "indices = [64]\n",
    "filePath = \"C:\\\\Users\\\\Spencer\\\\Desktop\\\\scrape\\\\py_files\\\\anthony_scrapes\"\n",
    "# simpleScraper(sourceFile=sourceFile, searchTerms=searchTerms,key=key,indices=indices,wait=[0.5,1.5],combine=False,statusCol=\"Status\",filePath=filePath)"
   ]
  },
  {
   "cell_type": "code",
   "execution_count": 29,
   "metadata": {},
   "outputs": [],
   "source": [
    "import pandas as pd\n",
    "donatos = pd.read_excel(\"donatos.xlsx\")"
   ]
  },
  {
   "cell_type": "code",
   "execution_count": 33,
   "metadata": {},
   "outputs": [],
   "source": [
    "donatos[\"Field2\"] = [\" \".join(r.split(\" \")[:-3]) for r in donatos[\"Field2\"]]"
   ]
  },
  {
   "cell_type": "code",
   "execution_count": 38,
   "metadata": {},
   "outputs": [],
   "source": [
    "donatos[\"Name\"] = [\" \".join(r.split(\" \")[:2]) for r in donatos[\"Field2\"]]"
   ]
  },
  {
   "cell_type": "code",
   "execution_count": 57,
   "metadata": {},
   "outputs": [
    {
     "output_type": "execute_result",
     "data": {
      "text/plain": "[&#39;Donatos&#39;, &#39;Pizza&#39;, &#39;1013&#39;, &#39;High&#39;, &#39;St&#39;, &#39;HAMILTON&#39;, &#39;OH&#39;]"
     },
     "metadata": {},
     "execution_count": 57
    }
   ],
   "source": [
    "donatos[\"Field2\"][27].split(\" \")"
   ]
  },
  {
   "cell_type": "code",
   "execution_count": 47,
   "metadata": {},
   "outputs": [],
   "source": [
    "donatos[\"State\"] = [r.split(\" \")[-1] for r in donatos[\"Field2\"]]"
   ]
  },
  {
   "cell_type": "code",
   "execution_count": 60,
   "metadata": {},
   "outputs": [],
   "source": [
    "townpieces = [r.split(\" \")[-3:-1] for r in donatos[\"Field2\"]]"
   ]
  },
  {
   "cell_type": "code",
   "execution_count": 69,
   "metadata": {},
   "outputs": [],
   "source": [
    "donatos[\"Town\"] = [\" \".join(t) if t[0].isupper() else t[1] for t in townpieces]"
   ]
  },
  {
   "cell_type": "code",
   "execution_count": 74,
   "metadata": {},
   "outputs": [],
   "source": [
    "addrpieces = [r.split(\" \")[2:-2] for r in donatos[\"Field2\"]]"
   ]
  },
  {
   "cell_type": "code",
   "execution_count": 79,
   "metadata": {},
   "outputs": [],
   "source": [
    "donatos[\"Address\"] = [\" \".join(a[0:-1]) if a[-1].isupper() else \" \".join(a[0:]) for a in addrpieces]"
   ]
  },
  {
   "cell_type": "code",
   "execution_count": 82,
   "metadata": {},
   "outputs": [],
   "source": [
    "donatos[\"Status\"] = \"\""
   ]
  },
  {
   "cell_type": "code",
   "execution_count": 84,
   "metadata": {},
   "outputs": [
    {
     "output_type": "execute_result",
     "data": {
      "text/plain": "                                                Field2      Unnamed: 1  \\\n0          Donatos Pizza 825 W 10th St INDIANAPOLIS IN  (317) 231-9700   \n1            Donatos Pizza 92 S Highway 27 SOMERSET KY  (606) 677-1700   \n2         Donatos Pizza 2357 E 62nd St INDIANAPOLIS IN  (317) 722-8100   \n3           Donatos Pizza 3390 Maple Ave ZANESVILLE OH  (740) 452-7900   \n4         Donatos Pizza 6407 Glenway Ave CINCINNATI OH  (513) 598-4200   \n..                                                 ...             ...   \n150  Donatos Pizza 12515 Jefferson Ave NEWPORT NEWS VA  (757) 525-4944   \n151       Donatos Pizza 3464 Wales Ave NW MASSILLON OH  (330) 833-3700   \n152      Donatos Pizza 2601 W Parrish Ave OWENSBORO KY  (270) 855-0801   \n153  Donatos Pizza 220 Azalea Square Blvd SUMMERVIL...  (843) 501-2838   \n154     Donatos Pizza 3284 Franklin Rd MURFREESBORO TN  (615) 900-5500   \n\n                                              Page URL           Name  \\\n0    https://www.google.com/maps/place/Donatos+Pizz...  Donatos Pizza   \n1    https://www.google.com/maps/place/Donatos+Pizz...  Donatos Pizza   \n2    https://www.google.com/maps/place/Donatos+Pizz...  Donatos Pizza   \n3    https://www.google.com/maps/place/Donatos+Pizz...  Donatos Pizza   \n4    https://www.google.com/maps/place/Donatos+Pizz...  Donatos Pizza   \n..                                                 ...            ...   \n150  https://www.google.com/maps/place/Donatos+Pizz...  Donatos Pizza   \n151  https://www.google.com/maps/place/Donatos+Pizz...  Donatos Pizza   \n152  https://www.google.com/maps/place/Donatos+Pizz...  Donatos Pizza   \n153  https://www.google.com/maps/place/Donatos+Pizz...  Donatos Pizza   \n154  https://www.google.com/maps/place/Donatos+Pizz...  Donatos Pizza   \n\n                    Address State          Town Status  \n0             825 W 10th St    IN  INDIANAPOLIS         \n1           92 S Highway 27    KY      SOMERSET         \n2            2357 E 62nd St    IN  INDIANAPOLIS         \n3            3390 Maple Ave    OH    ZANESVILLE         \n4          6407 Glenway Ave    OH    CINCINNATI         \n..                      ...   ...           ...    ...  \n150     12515 Jefferson Ave    VA  NEWPORT NEWS         \n151          3464 Wales Ave    OH  NW MASSILLON         \n152      2601 W Parrish Ave    KY     OWENSBORO         \n153  220 Azalea Square Blvd    SC   SUMMERVILLE         \n154        3284 Franklin Rd    TN  MURFREESBORO         \n\n[155 rows x 8 columns]",
      "text/html": "<div>\n<style scoped>\n    .dataframe tbody tr th:only-of-type {\n        vertical-align: middle;\n    }\n\n    .dataframe tbody tr th {\n        vertical-align: top;\n    }\n\n    .dataframe thead th {\n        text-align: right;\n    }\n</style>\n<table border=\"1\" class=\"dataframe\">\n  <thead>\n    <tr style=\"text-align: right;\">\n      <th></th>\n      <th>Field2</th>\n      <th>Unnamed: 1</th>\n      <th>Page URL</th>\n      <th>Name</th>\n      <th>Address</th>\n      <th>State</th>\n      <th>Town</th>\n      <th>Status</th>\n    </tr>\n  </thead>\n  <tbody>\n    <tr>\n      <td>0</td>\n      <td>Donatos Pizza 825 W 10th St INDIANAPOLIS IN</td>\n      <td>(317) 231-9700</td>\n      <td>https://www.google.com/maps/place/Donatos+Pizz...</td>\n      <td>Donatos Pizza</td>\n      <td>825 W 10th St</td>\n      <td>IN</td>\n      <td>INDIANAPOLIS</td>\n      <td></td>\n    </tr>\n    <tr>\n      <td>1</td>\n      <td>Donatos Pizza 92 S Highway 27 SOMERSET KY</td>\n      <td>(606) 677-1700</td>\n      <td>https://www.google.com/maps/place/Donatos+Pizz...</td>\n      <td>Donatos Pizza</td>\n      <td>92 S Highway 27</td>\n      <td>KY</td>\n      <td>SOMERSET</td>\n      <td></td>\n    </tr>\n    <tr>\n      <td>2</td>\n      <td>Donatos Pizza 2357 E 62nd St INDIANAPOLIS IN</td>\n      <td>(317) 722-8100</td>\n      <td>https://www.google.com/maps/place/Donatos+Pizz...</td>\n      <td>Donatos Pizza</td>\n      <td>2357 E 62nd St</td>\n      <td>IN</td>\n      <td>INDIANAPOLIS</td>\n      <td></td>\n    </tr>\n    <tr>\n      <td>3</td>\n      <td>Donatos Pizza 3390 Maple Ave ZANESVILLE OH</td>\n      <td>(740) 452-7900</td>\n      <td>https://www.google.com/maps/place/Donatos+Pizz...</td>\n      <td>Donatos Pizza</td>\n      <td>3390 Maple Ave</td>\n      <td>OH</td>\n      <td>ZANESVILLE</td>\n      <td></td>\n    </tr>\n    <tr>\n      <td>4</td>\n      <td>Donatos Pizza 6407 Glenway Ave CINCINNATI OH</td>\n      <td>(513) 598-4200</td>\n      <td>https://www.google.com/maps/place/Donatos+Pizz...</td>\n      <td>Donatos Pizza</td>\n      <td>6407 Glenway Ave</td>\n      <td>OH</td>\n      <td>CINCINNATI</td>\n      <td></td>\n    </tr>\n    <tr>\n      <td>...</td>\n      <td>...</td>\n      <td>...</td>\n      <td>...</td>\n      <td>...</td>\n      <td>...</td>\n      <td>...</td>\n      <td>...</td>\n      <td>...</td>\n    </tr>\n    <tr>\n      <td>150</td>\n      <td>Donatos Pizza 12515 Jefferson Ave NEWPORT NEWS VA</td>\n      <td>(757) 525-4944</td>\n      <td>https://www.google.com/maps/place/Donatos+Pizz...</td>\n      <td>Donatos Pizza</td>\n      <td>12515 Jefferson Ave</td>\n      <td>VA</td>\n      <td>NEWPORT NEWS</td>\n      <td></td>\n    </tr>\n    <tr>\n      <td>151</td>\n      <td>Donatos Pizza 3464 Wales Ave NW MASSILLON OH</td>\n      <td>(330) 833-3700</td>\n      <td>https://www.google.com/maps/place/Donatos+Pizz...</td>\n      <td>Donatos Pizza</td>\n      <td>3464 Wales Ave</td>\n      <td>OH</td>\n      <td>NW MASSILLON</td>\n      <td></td>\n    </tr>\n    <tr>\n      <td>152</td>\n      <td>Donatos Pizza 2601 W Parrish Ave OWENSBORO KY</td>\n      <td>(270) 855-0801</td>\n      <td>https://www.google.com/maps/place/Donatos+Pizz...</td>\n      <td>Donatos Pizza</td>\n      <td>2601 W Parrish Ave</td>\n      <td>KY</td>\n      <td>OWENSBORO</td>\n      <td></td>\n    </tr>\n    <tr>\n      <td>153</td>\n      <td>Donatos Pizza 220 Azalea Square Blvd SUMMERVIL...</td>\n      <td>(843) 501-2838</td>\n      <td>https://www.google.com/maps/place/Donatos+Pizz...</td>\n      <td>Donatos Pizza</td>\n      <td>220 Azalea Square Blvd</td>\n      <td>SC</td>\n      <td>SUMMERVILLE</td>\n      <td></td>\n    </tr>\n    <tr>\n      <td>154</td>\n      <td>Donatos Pizza 3284 Franklin Rd MURFREESBORO TN</td>\n      <td>(615) 900-5500</td>\n      <td>https://www.google.com/maps/place/Donatos+Pizz...</td>\n      <td>Donatos Pizza</td>\n      <td>3284 Franklin Rd</td>\n      <td>TN</td>\n      <td>MURFREESBORO</td>\n      <td></td>\n    </tr>\n  </tbody>\n</table>\n<p>155 rows × 8 columns</p>\n</div>"
     },
     "metadata": {},
     "execution_count": 84
    }
   ],
   "source": [
    "donatos"
   ]
  },
  {
   "cell_type": "code",
   "execution_count": 83,
   "metadata": {},
   "outputs": [],
   "source": [
    "donatos.to_csv(\"donatos.csv\",index=False)"
   ]
  },
  {
   "cell_type": "code",
   "execution_count": 85,
   "metadata": {},
   "outputs": [],
   "source": [
    "# donatos scrape\n",
    "searchTerms = [\"Name\", \"Address\", \"Town\", \"State\"]\n",
    "key = \"Field2\"\n",
    "sourceFile = \"donatos.csv\"\n",
    "indices = list(range(0,155))\n",
    "filePath = \"C:\\\\Users\\\\sqbrown\\\\Desktop\\\\Work\\\\scrape\\\\py_files\\\\scrapes\"\n",
    "# simpleScraper(sourceFile=sourceFile, searchTerms=searchTerms,key=key,indices=indices,wait=[0.5,1.5],combine=False,statusCol=\"Status\",filePath=filePath)"
   ]
  },
  {
   "cell_type": "code",
   "execution_count": null,
   "metadata": {},
   "outputs": [],
   "source": [
    "# pizza hut scrape 9/30\n",
    "searchTerms = [\"Company Name\", \"Address 1\", \"City\", \"State\"]\n",
    "key = \"Company ID\"\n",
    "sourceFile = \"workfile_530_1059.xlsx\"\n",
    "indices = list(range(257,530))\n",
    "filePath = \"C:\\\\Users\\\\sqbrown\\\\Desktop\\\\Work\\\\scrape\\\\py_files\\\\scrapes\"\n",
    "# simpleScraper(sourceFile=sourceFile, searchTerms=searchTerms,key=key,indices=indices,wait=[0.5,1.5],combine=False,statusCol=\"Status\",filePath=filePath)\n",
    "# successfully scraped 248"
   ]
  },
  {
   "cell_type": "code",
   "execution_count": null,
   "metadata": {},
   "outputs": [],
   "source": [
    "# pizza hut scrape 10/1\n",
    "searchTerms = [\"Company Name\", \"Address 1\", \"City\", \"State\"]\n",
    "key = \"Company ID\"\n",
    "sourceFile = \"workfile_1060_1589.xlsx\"\n",
    "indices = list(range(0,530))\n",
    "filePath = \"C:\\\\Users\\\\sqbrown\\\\Desktop\\\\Work\\\\scrape\\\\py_files\\\\scrapes\"\n",
    "# simpleScraper(sourceFile=sourceFile, searchTerms=searchTerms,key=key,indices=indices,wait=[0.5,1.5],combine=False,statusCol=\"Status\",filePath=filePath)"
   ]
  },
  {
   "cell_type": "code",
   "execution_count": null,
   "metadata": {},
   "outputs": [],
   "source": [
    "# pizza hut scrape 10/1 #2\n",
    "searchTerms = [\"Company Name\", \"Address 1\", \"City\", \"State\"]\n",
    "key = \"Company ID\"\n",
    "sourceFile = \"workfile_1590_2119.xlsx\"\n",
    "indices = list(range(0,530))\n",
    "filePath = \"C:\\\\Users\\\\sqbrown\\\\Desktop\\\\Work\\\\scrape\\\\py_files\\\\scrapes\"\n",
    "# simpleScraper(sourceFile=sourceFile, searchTerms=searchTerms,key=key,indices=indices,wait=[0.5,1.5],combine=False,statusCol=\"Status\",filePath=filePath)\n",
    "# i know there is an issue with some locations not scrolling all the way. ill need to find a way to test outputs spreadsheets for this, but most seemed to work out well"
   ]
  },
  {
   "cell_type": "code",
   "execution_count": null,
   "metadata": {},
   "outputs": [],
   "source": [
    "# pizza hut scrape 10/2 #1\n",
    "searchTerms = [\"Company Name\", \"Address 1\", \"City\", \"State\"]\n",
    "key = \"Company ID\"\n",
    "sourceFile = \"workfile_2120_2649.xlsx\"\n",
    "indices = list(range(0,530))\n",
    "filePath = \"C:\\\\Users\\\\sqbrown\\\\Desktop\\\\Work\\\\scrape\\\\py_files\\\\scrapes\"\n",
    "# simpleScraper(sourceFile=sourceFile, searchTerms=searchTerms,key=key,indices=indices,wait=[0.5,1.5],combine=False,statusCol=\"Status\",filePath=filePath)"
   ]
  }
 ],
 "metadata": {
  "kernelspec": {
   "display_name": "Python 3",
   "language": "python",
   "name": "python3"
  },
  "language_info": {
   "codemirror_mode": {
    "name": "ipython",
    "version": 3
   },
   "file_extension": ".py",
   "mimetype": "text/x-python",
   "name": "python",
   "nbconvert_exporter": "python",
   "pygments_lexer": "ipython3",
   "version": "3.7.0-final"
  }
 },
 "nbformat": 4,
 "nbformat_minor": 2
}