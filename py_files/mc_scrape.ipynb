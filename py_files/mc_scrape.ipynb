{
 "metadata": {
  "language_info": {
   "codemirror_mode": {
    "name": "ipython",
    "version": 3
   },
   "file_extension": ".py",
   "mimetype": "text/x-python",
   "name": "python",
   "nbconvert_exporter": "python",
   "pygments_lexer": "ipython3",
   "version": "3.7.0-final"
  },
  "orig_nbformat": 2,
  "kernelspec": {
   "name": "python3",
   "display_name": "Python 3.7.0 32-bit",
   "metadata": {
    "interpreter": {
     "hash": "0db28da4c15e642dbf0cafae08e76ec58516fc4225f0e8a45880ac3a517b556d"
    }
   }
  }
 },
 "nbformat": 4,
 "nbformat_minor": 2,
 "cells": [
  {
   "cell_type": "code",
   "execution_count": 1,
   "metadata": {},
   "outputs": [],
   "source": [
    "import pandas as pd"
   ]
  },
  {
   "cell_type": "code",
   "execution_count": 2,
   "metadata": {},
   "outputs": [],
   "source": [
    "mc_2019 = pd.read_excel(\"/home/spencer/Documents/Projects/scrape/Sales Data_.xlsx\", sheet_name=\"2019\")"
   ]
  },
  {
   "cell_type": "code",
   "execution_count": 10,
   "metadata": {},
   "outputs": [],
   "source": [
    "mc_2019 = mc_2019.iloc[:,[0, 3, 4, 5, 6, 7, 9, 10]]"
   ]
  },
  {
   "cell_type": "code",
   "execution_count": 14,
   "metadata": {},
   "outputs": [],
   "source": [
    "mc_2019 = mc_2019.rename(columns={\"Company ID\":\"Store Company ID\"})"
   ]
  },
  {
   "cell_type": "code",
   "execution_count": 15,
   "metadata": {},
   "outputs": [],
   "source": [
    "mc_2019.to_csv(\"mc_2019.csv\", index=False)"
   ]
  },
  {
   "cell_type": "code",
   "execution_count": null,
   "metadata": {},
   "outputs": [],
   "source": [
    "# mcdonalds 2019 batch 1\n",
    "searchTerms = [\"Company Name\", \"Address 1\", \"City\", \"State\"]\n",
    "key = \"Phone\"\n",
    "sourceFile = \"mc_2019.csv\"\n",
    "indices = list(range(0, 500))\n",
    "filePath = \"/home/spencer/Documents/Projects/scrape/mcdonalds_data/\"\n",
    "# simpleScraper(sourceFile=sourceFile, searchTerms=searchTerms,key=key,indices=indices,wait=[1,1.5],combine=False,filePath=filePath, checkAddress=False, limit=2400)"
   ]
  },
  {
   "cell_type": "code",
   "execution_count": null,
   "metadata": {},
   "outputs": [],
   "source": [
    "# mcdonalds 2019 batch 1, set limit to 2400\n",
    "searchTerms = [\"Company Name\", \"Address 1\", \"City\", \"State\"]\n",
    "key = \"Phone\"\n",
    "sourceFile = \"mc_2019.csv\"\n",
    "indices = list(range(3, 500))\n",
    "filePath = \"/home/spencer/Documents/Projects/scrape/mcdonalds_data/\"\n",
    "# simpleScraper(sourceFile=sourceFile, searchTerms=searchTerms,key=key,indices=indices,wait=[1,1.5],combine=False,filePath=filePath, checkAddress=False, limit=2400)"
   ]
  },
  {
   "cell_type": "code",
   "execution_count": null,
   "metadata": {},
   "outputs": [],
   "source": [
    "# mcdonalds 2019 batch 1, failed after 262\n",
    "searchTerms = [\"Company Name\", \"Address 1\", \"City\", \"State\"]\n",
    "key = \"Phone\"\n",
    "sourceFile = \"mc_2019.csv\"\n",
    "indices = list(range(263, 500))\n",
    "filePath = \"/home/spencer/Documents/Projects/scrape/mcdonalds_data/\"\n",
    "# simpleScraper(sourceFile=sourceFile, searchTerms=searchTerms,key=key,indices=indices,wait=[1,1.5],combine=False,filePath=filePath, checkAddress=False, limit=2400)"
   ]
  },
  {
   "cell_type": "code",
   "execution_count": null,
   "metadata": {},
   "outputs": [],
   "source": [
    "# mcdonalds 2019 batch 1, chrome crash after 338\n",
    "searchTerms = [\"Company Name\", \"Address 1\", \"City\", \"State\"]\n",
    "key = \"Phone\"\n",
    "sourceFile = \"mc_2019.csv\"\n",
    "indices = list(range(339, 500))\n",
    "filePath = \"/home/spencer/Documents/Projects/scrape/mcdonalds_data/\"\n",
    "# simpleScraper(sourceFile=sourceFile, searchTerms=searchTerms,key=key,indices=indices,wait=[1,1.5],combine=False,filePath=filePath, checkAddress=False, limit=2400)"
   ]
  },
  {
   "cell_type": "code",
   "execution_count": null,
   "metadata": {},
   "outputs": [],
   "source": [
    "# mcdonalds 2019 batch 1, chrome crash after 362\n",
    "searchTerms = [\"Company Name\", \"Address 1\", \"City\", \"State\"]\n",
    "key = \"Phone\"\n",
    "sourceFile = \"mc_2019.csv\"\n",
    "indices = list(range(363, 500))\n",
    "filePath = \"/home/spencer/Documents/Projects/scrape/mcdonalds_data/\"\n",
    "# simpleScraper(sourceFile=sourceFile, searchTerms=searchTerms,key=key,indices=indices,wait=[1,1.5],combine=False,filePath=filePath, checkAddress=False, limit=2400)"
   ]
  },
  {
   "cell_type": "code",
   "execution_count": null,
   "metadata": {},
   "outputs": [],
   "source": [
    "# mcdonalds 2019 batch 1, chrome crash after 362\n",
    "searchTerms = [\"Company Name\", \"Address 1\", \"City\", \"State\"]\n",
    "key = \"Phone\"\n",
    "sourceFile = \"mc_2019.csv\"\n",
    "indices = list(range(380, 500))\n",
    "filePath = \"/home/spencer/Documents/Projects/scrape/mcdonalds_data/\"\n",
    "# simpleScraper(sourceFile=sourceFile, searchTerms=searchTerms,key=key,indices=indices,wait=[1,1.5],combine=False,filePath=filePath, checkAddress=False, limit=2400)"
   ]
  },
  {
   "cell_type": "code",
   "execution_count": null,
   "metadata": {},
   "outputs": [],
   "source": [
    "# mcdonalds 2019 batch 1, stopped after 463\n",
    "searchTerms = [\"Company Name\", \"Address 1\", \"City\", \"State\"]\n",
    "key = \"Phone\"\n",
    "sourceFile = \"mc_2019.csv\"\n",
    "indices = list(range(464, 500))\n",
    "filePath = \"/home/spencer/Documents/Projects/scrape/mcdonalds_data/\"\n",
    "# simpleScraper(sourceFile=sourceFile, searchTerms=searchTerms,key=key,indices=indices,wait=[1,1.5],combine=False,filePath=filePath, checkAddress=False, limit=2400)"
   ]
  },
  {
   "cell_type": "code",
   "execution_count": null,
   "metadata": {},
   "outputs": [],
   "source": [
    "# mcdonalds 2019 batch 2\n",
    "searchTerms = [\"Company Name\", \"Address 1\", \"City\", \"State\"]\n",
    "key = \"Phone\"\n",
    "sourceFile = \"mc_2019.csv\"\n",
    "indices = list(range(500, 1000))\n",
    "filePath = \"/home/spencer/Documents/Projects/scrape/mcdonalds_data/\"\n",
    "# simpleScraper(sourceFile=sourceFile, searchTerms=searchTerms,key=key,indices=indices,wait=[1,1.5],combine=False,filePath=filePath, checkAddress=False, limit=2400)"
   ]
  },
  {
   "cell_type": "code",
   "execution_count": null,
   "metadata": {},
   "outputs": [],
   "source": [
    "# mcdonalds 2019 batch 2, chrome crash after 785\n",
    "searchTerms = [\"Company Name\", \"Address 1\", \"City\", \"State\"]\n",
    "key = \"Phone\"\n",
    "sourceFile = \"mc_2019.csv\"\n",
    "indices = list(range(786, 1000))\n",
    "filePath = \"/home/spencer/Documents/Projects/scrape/mcdonalds_data/\"\n",
    "# simpleScraper(sourceFile=sourceFile, searchTerms=searchTerms,key=key,indices=indices,wait=[1,1.5],combine=False,filePath=filePath, checkAddress=False, limit=2400)"
   ]
  },
  {
   "cell_type": "code",
   "execution_count": null,
   "metadata": {},
   "outputs": [],
   "source": [
    "# mcdonalds 2019 batch 2, chrome crash after 845\n",
    "searchTerms = [\"Company Name\", \"Address 1\", \"City\", \"State\"]\n",
    "key = \"Phone\"\n",
    "sourceFile = \"mc_2019.csv\"\n",
    "indices = list(range(846, 1000))\n",
    "filePath = \"/home/spencer/Documents/Projects/scrape/mcdonalds_data/\"\n",
    "# simpleScraper(sourceFile=sourceFile, searchTerms=searchTerms,key=key,indices=indices,wait=[1,1.5],combine=False,filePath=filePath, checkAddress=False, limit=2400)"
   ]
  },
  {
   "cell_type": "code",
   "execution_count": null,
   "metadata": {},
   "outputs": [],
   "source": [
    "# mcdonalds 2019 batch 2, chrome crash after 873\n",
    "searchTerms = [\"Company Name\", \"Address 1\", \"City\", \"State\"]\n",
    "key = \"Phone\"\n",
    "sourceFile = \"mc_2019.csv\"\n",
    "indices = list(range(874, 1000))\n",
    "filePath = \"/home/spencer/Documents/Projects/scrape/mcdonalds_data/\"\n",
    "# simpleScraper(sourceFile=sourceFile, searchTerms=searchTerms,key=key,indices=indices,wait=[1,1.5],combine=False,filePath=filePath, checkAddress=False, limit=2400)"
   ]
  },
  {
   "cell_type": "code",
   "execution_count": null,
   "metadata": {},
   "outputs": [],
   "source": [
    "# mcdonalds 2019 batch 2, chrome crash after 885\n",
    "searchTerms = [\"Company Name\", \"Address 1\", \"City\", \"State\"]\n",
    "key = \"Phone\"\n",
    "sourceFile = \"mc_2019.csv\"\n",
    "indices = list(range(886, 1000))\n",
    "filePath = \"/home/spencer/Documents/Projects/scrape/mcdonalds_data/\"\n",
    "# simpleScraper(sourceFile=sourceFile, searchTerms=searchTerms,key=key,indices=indices,wait=[1,1.5],combine=False,filePath=filePath, checkAddress=False, limit=2400)"
   ]
  },
  {
   "cell_type": "code",
   "execution_count": null,
   "metadata": {},
   "outputs": [],
   "source": [
    "# mcdonalds 2019 batch 2, chrome crash after 892, trying geckodriver\n",
    "searchTerms = [\"Company Name\", \"Address 1\", \"City\", \"State\"]\n",
    "key = \"Phone\"\n",
    "sourceFile = \"mc_2019.csv\"\n",
    "indices = list(range(893, 1000))\n",
    "filePath = \"/home/spencer/Documents/Projects/scrape/mcdonalds_data/\"\n",
    "# simpleScraper(sourceFile=sourceFile, searchTerms=searchTerms,key=key,indices=indices,wait=[1,1.5],combine=False,filePath=filePath, checkAddress=False, limit=2400, firefox=True)"
   ]
  },
  {
   "cell_type": "code",
   "execution_count": null,
   "metadata": {},
   "outputs": [],
   "source": [
    "# mcdonalds 2019 batch 5\n",
    "searchTerms = [\"Company Name\", \"Address 1\", \"City\", \"State\"]\n",
    "key = \"Phone\"\n",
    "sourceFile = \"mc_2019.csv\"\n",
    "indices = list(range(2000, 2500))\n",
    "filePath = \"/home/spencer/Documents/Projects/scrape/mcdonalds_data/\"\n",
    "# simpleScraper(sourceFile=sourceFile, searchTerms=searchTerms,key=key,indices=indices,wait=[1,1.5],combine=False,filePath=filePath, checkAddress=False, limit=2400, firefox=True)"
   ]
  },
  {
   "cell_type": "code",
   "execution_count": null,
   "metadata": {},
   "outputs": [],
   "source": [
    "# mcdonalds 2019 batch 5, weird crash after 2001\n",
    "searchTerms = [\"Company Name\", \"Address 1\", \"City\", \"State\"]\n",
    "key = \"Phone\"\n",
    "sourceFile = \"mc_2019.csv\"\n",
    "indices = list(range(2002, 2500))\n",
    "filePath = \"/home/spencer/Documents/Projects/scrape/mcdonalds_data/\"\n",
    "# simpleScraper(sourceFile=sourceFile, searchTerms=searchTerms,key=key,indices=indices,wait=[1,1.5],combine=False,filePath=filePath, checkAddress=False, limit=2400, firefox=True)"
   ]
  },
  {
   "cell_type": "code",
   "execution_count": null,
   "metadata": {},
   "outputs": [],
   "source": [
    "# mcdonalds 2019 batch 5, weird crash after 2197\n",
    "searchTerms = [\"Company Name\", \"Address 1\", \"City\", \"State\"]\n",
    "key = \"Phone\"\n",
    "sourceFile = \"mc_2019.csv\"\n",
    "indices = list(range(2198, 2500))\n",
    "filePath = \"/home/spencer/Documents/Projects/scrape/mcdonalds_data/\"\n",
    "# simpleScraper(sourceFile=sourceFile, searchTerms=searchTerms,key=key,indices=indices,wait=[1,1.5],combine=False,filePath=filePath, checkAddress=False, limit=2400, firefox=True)"
   ]
  },
  {
   "cell_type": "code",
   "execution_count": null,
   "metadata": {},
   "outputs": [],
   "source": [
    "# mcdonalds 2019 batch 5, weird crash after 2422\n",
    "searchTerms = [\"Company Name\", \"Address 1\", \"City\", \"State\"]\n",
    "key = \"Phone\"\n",
    "sourceFile = \"mc_2019.csv\"\n",
    "indices = list(range(2423, 2500))\n",
    "filePath = \"/home/spencer/Documents/Projects/scrape/mcdonalds_data/\"\n",
    "# simpleScraper(sourceFile=sourceFile, searchTerms=searchTerms,key=key,indices=indices,wait=[1,1.5],combine=False,filePath=filePath, checkAddress=False, limit=2400, firefox=True)"
   ]
  },
  {
   "cell_type": "code",
   "execution_count": null,
   "metadata": {},
   "outputs": [],
   "source": [
    "# mcdonalds 2019 batch 5, weird crash after 2451\n",
    "searchTerms = [\"Company Name\", \"Address 1\", \"City\", \"State\"]\n",
    "key = \"Phone\"\n",
    "sourceFile = \"mc_2019.csv\"\n",
    "indices = list(range(2452, 2500))\n",
    "filePath = \"/home/spencer/Documents/Projects/scrape/mcdonalds_data/\"\n",
    "# simpleScraper(sourceFile=sourceFile, searchTerms=searchTerms,key=key,indices=indices,wait=[1,1.5],combine=False,filePath=filePath, checkAddress=False, limit=2400, firefox=True)"
   ]
  },
  {
   "cell_type": "code",
   "execution_count": null,
   "metadata": {},
   "outputs": [],
   "source": [
    "# mcdonalds 2019 batch 6\n",
    "searchTerms = [\"Company Name\", \"Address 1\", \"City\", \"State\"]\n",
    "key = \"Phone\"\n",
    "sourceFile = \"mc_2019.csv\"\n",
    "indices = list(range(2500, 3000))\n",
    "filePath = \"/home/spencer/Documents/Projects/scrape/mcdonalds_data/\"\n",
    "# simpleScraper(sourceFile=sourceFile, searchTerms=searchTerms,key=key,indices=indices,wait=[1,1.5],combine=False,filePath=filePath, checkAddress=False, limit=2400, firefox=True)"
   ]
  },
  {
   "cell_type": "code",
   "execution_count": null,
   "metadata": {},
   "outputs": [],
   "source": [
    "# mcdonalds 2019 batch 6, crash after 2774\n",
    "searchTerms = [\"Company Name\", \"Address 1\", \"City\", \"State\"]\n",
    "key = \"Phone\"\n",
    "sourceFile = \"mc_2019.csv\"\n",
    "indices = list(range(2775, 3000))\n",
    "filePath = \"/home/spencer/Documents/Projects/scrape/mcdonalds_data/\"\n",
    "# simpleScraper(sourceFile=sourceFile, searchTerms=searchTerms,key=key,indices=indices,wait=[1,1.5],combine=False,filePath=filePath, checkAddress=False, limit=2400, firefox=True)"
   ]
  },
  {
   "cell_type": "code",
   "execution_count": null,
   "metadata": {},
   "outputs": [],
   "source": [
    "# mcdonalds 2019 batch 6, crash after 2967\n",
    "searchTerms = [\"Company Name\", \"Address 1\", \"City\", \"State\"]\n",
    "key = \"Phone\"\n",
    "sourceFile = \"mc_2019.csv\"\n",
    "indices = list(range(2968, 3000))\n",
    "filePath = \"/home/spencer/Documents/Projects/scrape/mcdonalds_data/\"\n",
    "# simpleScraper(sourceFile=sourceFile, searchTerms=searchTerms,key=key,indices=indices,wait=[1,1.5],combine=False,filePath=filePath, checkAddress=False, limit=2400, firefox=True)"
   ]
  },
  {
   "cell_type": "code",
   "execution_count": null,
   "metadata": {},
   "outputs": [],
   "source": [
    "# mcdonalds 2019 batch 7\n",
    "searchTerms = [\"Company Name\", \"Address 1\", \"City\", \"State\"]\n",
    "key = \"Phone\"\n",
    "sourceFile = \"mc_2019.csv\"\n",
    "indices = list(range(3000, 3500))\n",
    "filePath = \"/home/spencer/Documents/Projects/scrape/mcdonalds_data/\"\n",
    "# simpleScraper(sourceFile=sourceFile, searchTerms=searchTerms,key=key,indices=indices,wait=[1,1.5],combine=False,filePath=filePath, checkAddress=False, limit=2400, firefox=True)"
   ]
  },
  {
   "cell_type": "code",
   "execution_count": null,
   "metadata": {},
   "outputs": [],
   "source": [
    "# mcdonalds 2019 batch 7, timeout after 3266\n",
    "searchTerms = [\"Company Name\", \"Address 1\", \"City\", \"State\"]\n",
    "key = \"Phone\"\n",
    "sourceFile = \"mc_2019.csv\"\n",
    "indices = list(range(3267, 3500))\n",
    "filePath = \"/home/spencer/Documents/Projects/scrape/mcdonalds_data/\"\n",
    "# simpleScraper(sourceFile=sourceFile, searchTerms=searchTerms,key=key,indices=indices,wait=[1,1.5],combine=False,filePath=filePath, checkAddress=False, limit=2400, firefox=True)"
   ]
  },
  {
   "cell_type": "code",
   "execution_count": null,
   "metadata": {},
   "outputs": [],
   "source": [
    "# mcdonalds 2019 batch 7, restarting due to scrolling issues after 3270\n",
    "searchTerms = [\"Company Name\", \"Address 1\", \"City\", \"State\"]\n",
    "key = \"Phone\"\n",
    "sourceFile = \"mc_2019.csv\"\n",
    "indices = list(range(3271, 3500))\n",
    "filePath = \"/home/spencer/Documents/Projects/scrape/data/mcdonalds_data/\"\n",
    "# simpleScraper(sourceFile=sourceFile, searchTerms=searchTerms,key=key,indices=indices,wait=[1,1.5],combine=False,filePath=filePath, checkAddress=False, limit=2400, firefox=True)"
   ]
  },
  {
   "cell_type": "code",
   "execution_count": null,
   "metadata": {},
   "outputs": [],
   "source": [
    "# mcdonalds 2019 batch 7, error after 3402\n",
    "searchTerms = [\"Company Name\", \"Address 1\", \"City\", \"State\"]\n",
    "key = \"Phone\"\n",
    "sourceFile = \"mc_2019.csv\"\n",
    "indices = list(range(3403, 3500))\n",
    "filePath = \"/home/spencer/Documents/Projects/scrape/data/mcdonalds_data/\"\n",
    "# simpleScraper(sourceFile=sourceFile, searchTerms=searchTerms,key=key,indices=indices,wait=[1,1.5],combine=False,filePath=filePath, checkAddress=False, limit=2400, firefox=True)"
   ]
  },
  {
   "cell_type": "code",
   "execution_count": null,
   "metadata": {},
   "outputs": [],
   "source": [
    "# mcdonalds 2019 batch 9\n",
    "searchTerms = [\"Company Name\", \"Address 1\", \"City\", \"State\"]\n",
    "key = \"Phone\"\n",
    "sourceFile = \"mc_2019.csv\"\n",
    "indices = list(range(4000, 4500))\n",
    "filePath = \"/home/spencer/Documents/Projects/scrape/data/mcdonalds_data/\"\n",
    "# simpleScraper(sourceFile=sourceFile, searchTerms=searchTerms,key=key,indices=indices,wait=[1,1.5],combine=False,filePath=filePath, checkAddress=False, limit=2400, firefox=True)"
   ]
  },
  {
   "cell_type": "code",
   "execution_count": null,
   "metadata": {},
   "outputs": [],
   "source": [
    "# mcdonalds 2019 batch 9, crash after 4158\n",
    "searchTerms = [\"Company Name\", \"Address 1\", \"City\", \"State\"]\n",
    "key = \"Phone\"\n",
    "sourceFile = \"mc_2019.csv\"\n",
    "indices = list(range(4159, 4500))\n",
    "filePath = \"/home/spencer/Documents/Projects/scrape/data/mcdonalds_data/\"\n",
    "# simpleScraper(sourceFile=sourceFile, searchTerms=searchTerms,key=key,indices=indices,wait=[1,1.5],combine=False,filePath=filePath, checkAddress=False, limit=2400, firefox=True)"
   ]
  },
  {
   "cell_type": "code",
   "execution_count": null,
   "metadata": {},
   "outputs": [],
   "source": [
    "# mcdonalds 2019 batch 9, crash after 4291\n",
    "searchTerms = [\"Company Name\", \"Address 1\", \"City\", \"State\"]\n",
    "key = \"Phone\"\n",
    "sourceFile = \"mc_2019.csv\"\n",
    "indices = list(range(4292, 4500))\n",
    "filePath = \"/home/spencer/Documents/Projects/scrape/data/mcdonalds_data/\"\n",
    "# simpleScraper(sourceFile=sourceFile, searchTerms=searchTerms,key=key,indices=indices,wait=[1,1.5],combine=False,filePath=filePath, checkAddress=False, limit=2400, firefox=True)"
   ]
  },
  {
   "cell_type": "code",
   "execution_count": null,
   "metadata": {},
   "outputs": [],
   "source": [
    "# mcdonalds 2019 batch 9, crash after 4389\n",
    "searchTerms = [\"Company Name\", \"Address 1\", \"City\", \"State\"]\n",
    "key = \"Phone\"\n",
    "sourceFile = \"mc_2019.csv\"\n",
    "indices = list(range(4390, 4500))\n",
    "filePath = \"/home/spencer/Documents/Projects/scrape/data/mcdonalds_data/\"\n",
    "# simpleScraper(sourceFile=sourceFile, searchTerms=searchTerms,key=key,indices=indices,wait=[1,1.5],combine=False,filePath=filePath, checkAddress=False, limit=2400, firefox=True)"
   ]
  },
  {
   "cell_type": "code",
   "execution_count": null,
   "metadata": {},
   "outputs": [],
   "source": [
    "# mcdonalds 2019 batch 10\n",
    "searchTerms = [\"Company Name\", \"Address 1\", \"City\", \"State\"]\n",
    "key = \"Phone\"\n",
    "sourceFile = \"mc_2019.csv\"\n",
    "indices = list(range(4500, 5000))\n",
    "filePath = \"/home/spencer/Documents/Projects/scrape/data/mcdonalds_data/\"\n",
    "# simpleScraper(sourceFile=sourceFile, searchTerms=searchTerms,key=key,indices=indices,wait=[1,1.5],combine=False,filePath=filePath, checkAddress=False, limit=2400, firefox=True)"
   ]
  },
  {
   "cell_type": "code",
   "execution_count": null,
   "metadata": {},
   "outputs": [],
   "source": [
    "# mcdonalds 2019 batch 10, crash after 4734\n",
    "searchTerms = [\"Company Name\", \"Address 1\", \"City\", \"State\"]\n",
    "key = \"Phone\"\n",
    "sourceFile = \"mc_2019.csv\"\n",
    "indices = list(range(4735, 5000))\n",
    "filePath = \"/home/spencer/Documents/Projects/scrape/data/mcdonalds_data/\"\n",
    "# simpleScraper(sourceFile=sourceFile, searchTerms=searchTerms,key=key,indices=indices,wait=[1,1.5],combine=False,filePath=filePath, checkAddress=False, limit=2400, firefox=True)"
   ]
  },
  {
   "cell_type": "code",
   "execution_count": null,
   "metadata": {},
   "outputs": [],
   "source": [
    "# mcdonalds 2019 batch 10, crash after 4893\n",
    "searchTerms = [\"Company Name\", \"Address 1\", \"City\", \"State\"]\n",
    "key = \"Phone\"\n",
    "sourceFile = \"mc_2019.csv\"\n",
    "indices = list(range(4894, 5000))\n",
    "filePath = \"/home/spencer/Documents/Projects/scrape/data/mcdonalds_data/\"\n",
    "# simpleScraper(sourceFile=sourceFile, searchTerms=searchTerms,key=key,indices=indices,wait=[1,1.5],combine=False,filePath=filePath, checkAddress=False, limit=2400, firefox=True)"
   ]
  },
  {
   "cell_type": "code",
   "execution_count": null,
   "metadata": {},
   "outputs": [],
   "source": [
    "# mcdonalds 2019 batch 12\n",
    "searchTerms = [\"Company Name\", \"Address 1\", \"City\", \"State\"]\n",
    "key = \"Phone\"\n",
    "sourceFile = \"mc_2019.csv\"\n",
    "indices = list(range(6000, 6500))\n",
    "filePath = \"/home/spencer/Documents/Projects/scrape/data/mcdonalds_data/\"\n",
    "# simpleScraper(sourceFile=sourceFile, searchTerms=searchTerms,key=key,indices=indices,wait=[1,1.5],combine=False,filePath=filePath, checkAddress=False, limit=2400, firefox=True)"
   ]
  },
  {
   "cell_type": "code",
   "execution_count": null,
   "metadata": {},
   "outputs": [],
   "source": [
    "# mcdonalds 2019 batch 12, crash after 6097\n",
    "searchTerms = [\"Company Name\", \"Address 1\", \"City\", \"State\"]\n",
    "key = \"Phone\"\n",
    "sourceFile = \"mc_2019.csv\"\n",
    "indices = list(range(6098, 6500))\n",
    "filePath = \"/home/spencer/Documents/Projects/scrape/data/mcdonalds_data/\"\n",
    "# simpleScraper(sourceFile=sourceFile, searchTerms=searchTerms,key=key,indices=indices,wait=[1,1.5],combine=False,filePath=filePath, checkAddress=False, limit=2400, firefox=True)"
   ]
  },
  {
   "cell_type": "code",
   "execution_count": null,
   "metadata": {},
   "outputs": [],
   "source": [
    "# mcdonalds 2019 batch 12, crash after 6176\n",
    "searchTerms = [\"Company Name\", \"Address 1\", \"City\", \"State\"]\n",
    "key = \"Phone\"\n",
    "sourceFile = \"mc_2019.csv\"\n",
    "indices = list(range(6177, 6500))\n",
    "filePath = \"/home/spencer/Documents/Projects/scrape/data/mcdonalds_data/\"\n",
    "# simpleScraper(sourceFile=sourceFile, searchTerms=searchTerms,key=key,indices=indices,wait=[1,1.5],combine=False,filePath=filePath, checkAddress=False, limit=2400, firefox=True)"
   ]
  },
  {
   "cell_type": "code",
   "execution_count": null,
   "metadata": {},
   "outputs": [],
   "source": [
    "# mcdonalds 2019 batch 12, crash after 6224\n",
    "searchTerms = [\"Company Name\", \"Address 1\", \"City\", \"State\"]\n",
    "key = \"Phone\"\n",
    "sourceFile = \"mc_2019.csv\"\n",
    "indices = list(range(6225, 6500))\n",
    "filePath = \"/home/spencer/Documents/Projects/scrape/data/mcdonalds_data/\"\n",
    "# simpleScraper(sourceFile=sourceFile, searchTerms=searchTerms,key=key,indices=indices,wait=[1,1.5],combine=False,filePath=filePath, checkAddress=False, limit=2400, firefox=True)"
   ]
  },
  {
   "cell_type": "code",
   "execution_count": null,
   "metadata": {},
   "outputs": [],
   "source": [
    "# mcdonalds 2019 batch 12, crash after 6255\n",
    "searchTerms = [\"Company Name\", \"Address 1\", \"City\", \"State\"]\n",
    "key = \"Phone\"\n",
    "sourceFile = \"mc_2019.csv\"\n",
    "indices = list(range(6256, 6500))\n",
    "filePath = \"/home/spencer/Documents/Projects/scrape/data/mcdonalds_data/\"\n",
    "# simpleScraper(sourceFile=sourceFile, searchTerms=searchTerms,key=key,indices=indices,wait=[1,1.5],combine=False,filePath=filePath, checkAddress=False, limit=2400, firefox=True)"
   ]
  },
  {
   "cell_type": "code",
   "execution_count": null,
   "metadata": {},
   "outputs": [],
   "source": [
    "# mcdonalds 2019 batch 12, crash after 6474\n",
    "searchTerms = [\"Company Name\", \"Address 1\", \"City\", \"State\"]\n",
    "key = \"Phone\"\n",
    "sourceFile = \"mc_2019.csv\"\n",
    "indices = list(range(6475, 6500))\n",
    "filePath = \"/home/spencer/Documents/Projects/scrape/data/mcdonalds_data/\"\n",
    "# simpleScraper(sourceFile=sourceFile, searchTerms=searchTerms,key=key,indices=indices,wait=[1,1.5],combine=False,filePath=filePath, checkAddress=False, limit=2400, firefox=True)"
   ]
  },
  {
   "cell_type": "code",
   "execution_count": null,
   "metadata": {},
   "outputs": [],
   "source": [
    "# mcdonalds 2019 batch 13\n",
    "searchTerms = [\"Company Name\", \"Address 1\", \"City\", \"State\"]\n",
    "key = \"Phone\"\n",
    "sourceFile = \"mc_2019.csv\"\n",
    "indices = list(range(6500, 7000))\n",
    "filePath = \"/home/spencer/Documents/Projects/scrape/data/mcdonalds_data/\"\n",
    "# simpleScraper(sourceFile=sourceFile, searchTerms=searchTerms,key=key,indices=indices,wait=[1,1.5],combine=False,filePath=filePath, checkAddress=False, limit=2400, firefox=True)"
   ]
  },
  {
   "cell_type": "code",
   "execution_count": null,
   "metadata": {},
   "outputs": [],
   "source": [
    "# mcdonalds 2019 batch 13, crash after 6706\n",
    "searchTerms = [\"Company Name\", \"Address 1\", \"City\", \"State\"]\n",
    "key = \"Phone\"\n",
    "sourceFile = \"mc_2019.csv\"\n",
    "indices = list(range(6707, 7000))\n",
    "filePath = \"/home/spencer/Documents/Projects/scrape/data/mcdonalds_data/\"\n",
    "# simpleScraper(sourceFile=sourceFile, searchTerms=searchTerms,key=key,indices=indices,wait=[1,1.5],combine=False,filePath=filePath, checkAddress=False, limit=2400, firefox=True)"
   ]
  },
  {
   "cell_type": "code",
   "execution_count": null,
   "metadata": {},
   "outputs": [],
   "source": [
    "# mcdonalds 2019 batch 13, crash after 6738\n",
    "searchTerms = [\"Company Name\", \"Address 1\", \"City\", \"State\"]\n",
    "key = \"Phone\"\n",
    "sourceFile = \"mc_2019.csv\"\n",
    "indices = list(range(6739, 7000))\n",
    "filePath = \"/home/spencer/Documents/Projects/scrape/data/mcdonalds_data/\"\n",
    "# simpleScraper(sourceFile=sourceFile, searchTerms=searchTerms,key=key,indices=indices,wait=[1,1.5],combine=False,filePath=filePath, checkAddress=False, limit=2400, firefox=True)"
   ]
  },
  {
   "cell_type": "code",
   "execution_count": null,
   "metadata": {},
   "outputs": [],
   "source": [
    "# mcdonalds 2019 batch 13, crash after 6811\n",
    "searchTerms = [\"Company Name\", \"Address 1\", \"City\", \"State\"]\n",
    "key = \"Phone\"\n",
    "sourceFile = \"mc_2019.csv\"\n",
    "indices = list(range(6812, 7000))\n",
    "filePath = \"/home/spencer/Documents/Projects/scrape/data/mcdonalds_data/\"\n",
    "# simpleScraper(sourceFile=sourceFile, searchTerms=searchTerms,key=key,indices=indices,wait=[1,1.5],combine=False,filePath=filePath, checkAddress=False, limit=2400, firefox=True)"
   ]
  },
  {
   "cell_type": "code",
   "execution_count": null,
   "metadata": {},
   "outputs": [],
   "source": [
    "# mcdonalds 2019 batch 13, crash after 6841\n",
    "searchTerms = [\"Company Name\", \"Address 1\", \"City\", \"State\"]\n",
    "key = \"Phone\"\n",
    "sourceFile = \"mc_2019.csv\"\n",
    "indices = list(range(6843, 7000))\n",
    "filePath = \"/home/spencer/Documents/Projects/scrape/data/mcdonalds_data/\"\n",
    "# simpleScraper(sourceFile=sourceFile, searchTerms=searchTerms,key=key,indices=indices,wait=[1,1.5],combine=False,filePath=filePath, checkAddress=False, limit=2400, firefox=True)"
   ]
  },
  {
   "cell_type": "code",
   "execution_count": null,
   "metadata": {},
   "outputs": [],
   "source": [
    "# mcdonalds 2019 batch 15\n",
    "searchTerms = [\"Company Name\", \"Address 1\", \"City\", \"State\"]\n",
    "key = \"Phone\"\n",
    "sourceFile = \"mc_2019.csv\"\n",
    "indices = list(range(7500, 8000))\n",
    "filePath = \"/home/spencer/Documents/Projects/scrape/data/mcdonalds_data/\"\n",
    "# simpleScraper(sourceFile=sourceFile, searchTerms=searchTerms,key=key,indices=indices,wait=[1,1.5],combine=False,filePath=filePath, checkAddress=False, limit=2400, firefox=True)"
   ]
  },
  {
   "cell_type": "code",
   "execution_count": null,
   "metadata": {},
   "outputs": [],
   "source": [
    "# mcdonalds 2019 batch 15, crash after 7749\n",
    "searchTerms = [\"Company Name\", \"Address 1\", \"City\", \"State\"]\n",
    "key = \"Phone\"\n",
    "sourceFile = \"mc_2019.csv\"\n",
    "indices = list(range(7750, 8000))\n",
    "filePath = \"/home/spencer/Documents/Projects/scrape/data/mcdonalds_data/\"\n",
    "# simpleScraper(sourceFile=sourceFile, searchTerms=searchTerms,key=key,indices=indices,wait=[1,1.5],combine=False,filePath=filePath, checkAddress=False, limit=2400, firefox=True)"
   ]
  },
  {
   "cell_type": "code",
   "execution_count": null,
   "metadata": {},
   "outputs": [],
   "source": [
    "# mcdonalds 2019 batch 16\n",
    "searchTerms = [\"Company Name\", \"Address 1\", \"City\", \"State\"]\n",
    "key = \"Phone\"\n",
    "sourceFile = \"mc_2019.csv\"\n",
    "indices = list(range(8000, 8500))\n",
    "filePath = \"/home/spencer/Documents/Projects/scrape/data/mcdonalds_data_batch_16/\"\n",
    "# simpleScraper(sourceFile=sourceFile, searchTerms=searchTerms,key=key,indices=indices,wait=[1,1.5],combine=False,filePath=filePath, checkAddress=False, limit=2400, firefox=True)"
   ]
  },
  {
   "cell_type": "code",
   "execution_count": null,
   "metadata": {},
   "outputs": [],
   "source": [
    "# mcdonalds 2019 batch 16, crash after 8037\n",
    "searchTerms = [\"Company Name\", \"Address 1\", \"City\", \"State\"]\n",
    "key = \"Phone\"\n",
    "sourceFile = \"mc_2019.csv\"\n",
    "indices = list(range(8038, 8500))\n",
    "filePath = \"/home/spencer/Documents/Projects/scrape/data/mcdonalds_data_batch_16/\"\n",
    "# simpleScraper(sourceFile=sourceFile, searchTerms=searchTerms,key=key,indices=indices,wait=[1,1.5],combine=False,filePath=filePath, checkAddress=False, limit=2400, firefox=True)"
   ]
  },
  {
   "cell_type": "code",
   "execution_count": null,
   "metadata": {},
   "outputs": [],
   "source": [
    "# mcdonalds 2019 batch 16, crash after 8147\n",
    "searchTerms = [\"Company Name\", \"Address 1\", \"City\", \"State\"]\n",
    "key = \"Phone\"\n",
    "sourceFile = \"mc_2019.csv\"\n",
    "indices = list(range(8148, 8500))\n",
    "filePath = \"/home/spencer/Documents/Projects/scrape/data/mcdonalds_data_batch_16/\"\n",
    "# simpleScraper(sourceFile=sourceFile, searchTerms=searchTerms,key=key,indices=indices,wait=[1,1.5],combine=False,filePath=filePath, checkAddress=False, limit=2400, firefox=True)"
   ]
  },
  {
   "cell_type": "code",
   "execution_count": null,
   "metadata": {},
   "outputs": [],
   "source": [
    "# mcdonalds 2019 batch 16, crash after 8358\n",
    "searchTerms = [\"Company Name\", \"Address 1\", \"City\", \"State\"]\n",
    "key = \"Phone\"\n",
    "sourceFile = \"mc_2019.csv\"\n",
    "indices = list(range(8359, 8500))\n",
    "filePath = \"/home/spencer/Documents/Projects/scrape/data/mcdonalds_data_batch_16/\"\n",
    "# simpleScraper(sourceFile=sourceFile, searchTerms=searchTerms,key=key,indices=indices,wait=[1,1.5],combine=False,filePath=filePath, checkAddress=False, limit=2400, firefox=True)"
   ]
  },
  {
   "cell_type": "code",
   "execution_count": null,
   "metadata": {},
   "outputs": [],
   "source": [
    "# mcdonalds 2019 batch 16, crash after 8449\n",
    "searchTerms = [\"Company Name\", \"Address 1\", \"City\", \"State\"]\n",
    "key = \"Phone\"\n",
    "sourceFile = \"mc_2019.csv\"\n",
    "indices = list(range(8450, 8500))\n",
    "filePath = \"/home/spencer/Documents/Projects/scrape/data/mcdonalds_data_batch_16/\"\n",
    "# simpleScraper(sourceFile=sourceFile, searchTerms=searchTerms,key=key,indices=indices,wait=[1,1.5],combine=False,filePath=filePath, checkAddress=False, limit=2400, firefox=True)"
   ]
  },
  {
   "cell_type": "code",
   "execution_count": null,
   "metadata": {},
   "outputs": [],
   "source": [
    "# mcdonalds 2019 batch 17\n",
    "searchTerms = [\"Company Name\", \"Address 1\", \"City\", \"State\"]\n",
    "key = \"Phone\"\n",
    "sourceFile = \"mc_2019.csv\"\n",
    "indices = list(range(8500, 9000))\n",
    "filePath = \"/home/spencer/Documents/Projects/scrape/data/mcdonalds_data_batch_17/\"\n",
    "# simpleScraper(sourceFile=sourceFile, searchTerms=searchTerms,key=key,indices=indices,wait=[1,1.5],combine=False,filePath=filePath, checkAddress=False, limit=2400, firefox=True)"
   ]
  },
  {
   "cell_type": "code",
   "execution_count": null,
   "metadata": {},
   "outputs": [],
   "source": [
    "# mcdonalds 2019 batch 17, crash after 8502\n",
    "searchTerms = [\"Company Name\", \"Address 1\", \"City\", \"State\"]\n",
    "key = \"Phone\"\n",
    "sourceFile = \"mc_2019.csv\"\n",
    "indices = list(range(8503, 9000))\n",
    "filePath = \"/home/spencer/Documents/Projects/scrape/data/mcdonalds_data_batch_17/\"\n",
    "# simpleScraper(sourceFile=sourceFile, searchTerms=searchTerms,key=key,indices=indices,wait=[1,1.5],combine=False,filePath=filePath, checkAddress=False, limit=2400, firefox=True)"
   ]
  },
  {
   "cell_type": "code",
   "execution_count": null,
   "metadata": {},
   "outputs": [],
   "source": [
    "# mcdonalds 2019 batch 17, crash after 8537\n",
    "searchTerms = [\"Company Name\", \"Address 1\", \"City\", \"State\"]\n",
    "key = \"Phone\"\n",
    "sourceFile = \"mc_2019.csv\"\n",
    "indices = list(range(8538, 9000))\n",
    "filePath = \"/home/spencer/Documents/Projects/scrape/data/mcdonalds_data_batch_17/\"\n",
    "# simpleScraper(sourceFile=sourceFile, searchTerms=searchTerms,key=key,indices=indices,wait=[1,1.5],combine=False,filePath=filePath, checkAddress=False, limit=2400, firefox=True)"
   ]
  },
  {
   "cell_type": "code",
   "execution_count": null,
   "metadata": {},
   "outputs": [],
   "source": [
    "# mcdonalds 2019 batch 17, crash after 8608\n",
    "searchTerms = [\"Company Name\", \"Address 1\", \"City\", \"State\"]\n",
    "key = \"Phone\"\n",
    "sourceFile = \"mc_2019.csv\"\n",
    "indices = list(range(8609, 9000))\n",
    "filePath = \"/home/spencer/Documents/Projects/scrape/data/mcdonalds_data_batch_17/\"\n",
    "# simpleScraper(sourceFile=sourceFile, searchTerms=searchTerms,key=key,indices=indices,wait=[1,1.5],combine=False,filePath=filePath, checkAddress=False, limit=2400, firefox=True)"
   ]
  },
  {
   "cell_type": "code",
   "execution_count": null,
   "metadata": {},
   "outputs": [],
   "source": [
    "# mcdonalds 2019 batch 18\n",
    "searchTerms = [\"Company Name\", \"Address 1\", \"City\", \"State\"]\n",
    "key = \"Phone\"\n",
    "sourceFile = \"mc_2019.csv\"\n",
    "indices = list(range(9000, 9500))\n",
    "filePath = \"/home/spencer/Documents/Projects/scrape/data/mcdonalds_data_batch_18/\"\n",
    "# simpleScraper(sourceFile=sourceFile, searchTerms=searchTerms,key=key,indices=indices,wait=[1,1.5],combine=False,filePath=filePath, checkAddress=False, limit=2400, firefox=True)"
   ]
  },
  {
   "cell_type": "code",
   "execution_count": null,
   "metadata": {},
   "outputs": [],
   "source": [
    "# mcdonalds 2019 batch 18, crash after 9002\n",
    "searchTerms = [\"Company Name\", \"Address 1\", \"City\", \"State\"]\n",
    "key = \"Phone\"\n",
    "sourceFile = \"mc_2019.csv\"\n",
    "indices = list(range(9003, 9500))\n",
    "filePath = \"/home/spencer/Documents/Projects/scrape/data/mcdonalds_data_batch_18/\"\n",
    "# simpleScraper(sourceFile=sourceFile, searchTerms=searchTerms,key=key,indices=indices,wait=[1,1.5],combine=False,filePath=filePath, checkAddress=False, limit=2400, firefox=True)"
   ]
  },
  {
   "cell_type": "code",
   "execution_count": null,
   "metadata": {},
   "outputs": [],
   "source": [
    "# mcdonalds 2019 batch 18, crash after 9200\n",
    "searchTerms = [\"Company Name\", \"Address 1\", \"City\", \"State\"]\n",
    "key = \"Phone\"\n",
    "sourceFile = \"mc_2019.csv\"\n",
    "indices = list(range(9201, 9500))\n",
    "filePath = \"/home/spencer/Documents/Projects/scrape/data/mcdonalds_data_batch_18/\"\n",
    "# simpleScraper(sourceFile=sourceFile, searchTerms=searchTerms,key=key,indices=indices,wait=[1,1.5],combine=False,filePath=filePath, checkAddress=False, limit=2400, firefox=True)"
   ]
  },
  {
   "cell_type": "code",
   "execution_count": null,
   "metadata": {},
   "outputs": [],
   "source": [
    "# mcdonalds 2019 batch 18, crash after 9265\n",
    "searchTerms = [\"Company Name\", \"Address 1\", \"City\", \"State\"]\n",
    "key = \"Phone\"\n",
    "sourceFile = \"mc_2019.csv\"\n",
    "indices = list(range(9266, 9500))\n",
    "filePath = \"/home/spencer/Documents/Projects/scrape/data/mcdonalds_data_batch_18/\"\n",
    "# simpleScraper(sourceFile=sourceFile, searchTerms=searchTerms,key=key,indices=indices,wait=[1,1.5],combine=False,filePath=filePath, checkAddress=False, limit=2400, firefox=True)"
   ]
  },
  {
   "cell_type": "code",
   "execution_count": null,
   "metadata": {},
   "outputs": [],
   "source": [
    "# mcdonalds 2019 batch 18, crash after 9293\n",
    "searchTerms = [\"Company Name\", \"Address 1\", \"City\", \"State\"]\n",
    "key = \"Phone\"\n",
    "sourceFile = \"mc_2019.csv\"\n",
    "indices = list(range(9294, 9500))\n",
    "filePath = \"/home/spencer/Documents/Projects/scrape/data/mcdonalds_data_batch_18/\"\n",
    "# simpleScraper(sourceFile=sourceFile, searchTerms=searchTerms,key=key,indices=indices,wait=[1,1.5],combine=False,filePath=filePath, checkAddress=False, limit=2400, firefox=True)"
   ]
  },
  {
   "cell_type": "code",
   "execution_count": null,
   "metadata": {},
   "outputs": [],
   "source": [
    "# mcdonalds 2019 batch 18, crash after 9356\n",
    "searchTerms = [\"Company Name\", \"Address 1\", \"City\", \"State\"]\n",
    "key = \"Phone\"\n",
    "sourceFile = \"mc_2019.csv\"\n",
    "indices = list(range(9357, 9500))\n",
    "filePath = \"/home/spencer/Documents/Projects/scrape/data/mcdonalds_data_batch_18/\"\n",
    "# simpleScraper(sourceFile=sourceFile, searchTerms=searchTerms,key=key,indices=indices,wait=[1,1.5],combine=False,filePath=filePath, checkAddress=False, limit=2400, firefox=True)"
   ]
  },
  {
   "cell_type": "code",
   "execution_count": null,
   "metadata": {},
   "outputs": [],
   "source": [
    "# mcdonalds 2019 batch 18, crash after 9359\n",
    "searchTerms = [\"Company Name\", \"Address 1\", \"City\", \"State\"]\n",
    "key = \"Phone\"\n",
    "sourceFile = \"mc_2019.csv\"\n",
    "indices = list(range(9360, 9500))\n",
    "filePath = \"/home/spencer/Documents/Projects/scrape/data/mcdonalds_data_batch_18/\"\n",
    "# simpleScraper(sourceFile=sourceFile, searchTerms=searchTerms,key=key,indices=indices,wait=[1,1.5],combine=False,filePath=filePath, checkAddress=False, limit=2400, firefox=True)"
   ]
  },
  {
   "cell_type": "code",
   "execution_count": null,
   "metadata": {},
   "outputs": [],
   "source": [
    "# mcdonalds 2019 batch 20\n",
    "searchTerms = [\"Company Name\", \"Address 1\", \"City\", \"State\"]\n",
    "key = \"Phone\"\n",
    "sourceFile = \"mc_2019.csv\"\n",
    "indices = list(range(10000, 10500))\n",
    "filePath = \"/home/spencer/Documents/Projects/scrape/data/mcdonalds_data_batch_20/\"\n",
    "# simpleScraper(sourceFile=sourceFile, searchTerms=searchTerms,key=key,indices=indices,wait=[1,1.5],combine=False,filePath=filePath, checkAddress=False, limit=2400, firefox=True)"
   ]
  },
  {
   "cell_type": "code",
   "execution_count": null,
   "metadata": {},
   "outputs": [],
   "source": [
    "# mcdonalds 2019 batch 20, crash after 10087\n",
    "searchTerms = [\"Company Name\", \"Address 1\", \"City\", \"State\"]\n",
    "key = \"Phone\"\n",
    "sourceFile = \"mc_2019.csv\"\n",
    "indices = list(range(10088, 10500))\n",
    "filePath = \"/home/spencer/Documents/Projects/scrape/data/mcdonalds_data_batch_20/\"\n",
    "# simpleScraper(sourceFile=sourceFile, searchTerms=searchTerms,key=key,indices=indices,wait=[1,1.5],combine=False,filePath=filePath, checkAddress=False, limit=2400, firefox=True)"
   ]
  },
  {
   "cell_type": "code",
   "execution_count": null,
   "metadata": {},
   "outputs": [],
   "source": [
    "# mcdonalds 2019 batch 20, crash after 10330\n",
    "searchTerms = [\"Company Name\", \"Address 1\", \"City\", \"State\"]\n",
    "key = \"Phone\"\n",
    "sourceFile = \"mc_2019.csv\"\n",
    "indices = list(range(10331, 10500))\n",
    "filePath = \"/home/spencer/Documents/Projects/scrape/data/mcdonalds_data_batch_20/\"\n",
    "# simpleScraper(sourceFile=sourceFile, searchTerms=searchTerms,key=key,indices=indices,wait=[1,1.5],combine=False,filePath=filePath, checkAddress=False, limit=2400, firefox=True)"
   ]
  },
  {
   "cell_type": "code",
   "execution_count": null,
   "metadata": {},
   "outputs": [],
   "source": [
    "# mcdonalds 2019 batch 20, crash after 10355\n",
    "searchTerms = [\"Company Name\", \"Address 1\", \"City\", \"State\"]\n",
    "key = \"Phone\"\n",
    "sourceFile = \"mc_2019.csv\"\n",
    "indices = list(range(10356, 10500))\n",
    "filePath = \"/home/spencer/Documents/Projects/scrape/data/mcdonalds_data_batch_20/\"\n",
    "# simpleScraper(sourceFile=sourceFile, searchTerms=searchTerms,key=key,indices=indices,wait=[1,1.5],combine=False,filePath=filePath, checkAddress=False, limit=2400, firefox=True)"
   ]
  },
  {
   "cell_type": "code",
   "execution_count": null,
   "metadata": {},
   "outputs": [],
   "source": [
    "# mcdonalds 2019 batch 20, crash after 10395\n",
    "searchTerms = [\"Company Name\", \"Address 1\", \"City\", \"State\"]\n",
    "key = \"Phone\"\n",
    "sourceFile = \"mc_2019.csv\"\n",
    "indices = list(range(10396, 10500))\n",
    "filePath = \"/home/spencer/Documents/Projects/scrape/data/mcdonalds_data_batch_20/\"\n",
    "# simpleScraper(sourceFile=sourceFile, searchTerms=searchTerms,key=key,indices=indices,wait=[1,1.5],combine=False,filePath=filePath, checkAddress=False, limit=2400, firefox=True)"
   ]
  },
  {
   "cell_type": "code",
   "execution_count": null,
   "metadata": {},
   "outputs": [],
   "source": [
    "# mcdonalds 2019 batch 21\n",
    "searchTerms = [\"Company Name\", \"Address 1\", \"City\", \"State\"]\n",
    "key = \"Phone\"\n",
    "sourceFile = \"mc_2019.csv\"\n",
    "indices = list(range(10500, 11000))\n",
    "filePath = \"/home/spencer/Documents/Projects/scrape/data/mcdonalds_data_batch_21/\"\n",
    "# simpleScraper(sourceFile=sourceFile, searchTerms=searchTerms,key=key,indices=indices,wait=[1,1.5],combine=False,filePath=filePath, checkAddress=False, limit=2400, firefox=True)"
   ]
  },
  {
   "cell_type": "code",
   "execution_count": null,
   "metadata": {},
   "outputs": [],
   "source": [
    "# mcdonalds 2019 batch 21\n",
    "searchTerms = [\"Company Name\", \"Address 1\", \"City\", \"State\"]\n",
    "key = \"Phone\"\n",
    "sourceFile = \"mc_2019.csv\"\n",
    "indices = list(range(10504, 11000))\n",
    "filePath = \"/home/spencer/Documents/Projects/scrape/data/mcdonalds_data_batch_21/\"\n",
    "# simpleScraper(sourceFile=sourceFile, searchTerms=searchTerms,key=key,indices=indices,wait=[1,1.5],combine=False,filePath=filePath, checkAddress=False, limit=2400, firefox=True)"
   ]
  },
  {
   "cell_type": "code",
   "execution_count": null,
   "metadata": {},
   "outputs": [],
   "source": [
    "# mcdonalds 2019 batch 21, crash after 10632\n",
    "searchTerms = [\"Company Name\", \"Address 1\", \"City\", \"State\"]\n",
    "key = \"Phone\"\n",
    "sourceFile = \"mc_2019.csv\"\n",
    "indices = list(range(10633, 11000))\n",
    "filePath = \"/home/spencer/Documents/Projects/scrape/data/mcdonalds_data_batch_21/\"\n",
    "# simpleScraper(sourceFile=sourceFile, searchTerms=searchTerms,key=key,indices=indices,wait=[1,1.5],combine=False,filePath=filePath, checkAddress=False, limit=2400, firefox=True)"
   ]
  },
  {
   "cell_type": "code",
   "execution_count": null,
   "metadata": {},
   "outputs": [],
   "source": [
    "# mcdonalds 2019 batch 21, crash after 10633\n",
    "searchTerms = [\"Company Name\", \"Address 1\", \"City\", \"State\"]\n",
    "key = \"Phone\"\n",
    "sourceFile = \"mc_2019.csv\"\n",
    "indices = list(range(10634, 11000))\n",
    "filePath = \"/home/spencer/Documents/Projects/scrape/data/mcdonalds_data_batch_21/\"\n",
    "# simpleScraper(sourceFile=sourceFile, searchTerms=searchTerms,key=key,indices=indices,wait=[1,1.5],combine=False,filePath=filePath, checkAddress=False, limit=2400, firefox=True)"
   ]
  },
  {
   "cell_type": "code",
   "execution_count": null,
   "metadata": {},
   "outputs": [],
   "source": [
    "# mcdonalds 2019 batch 21, crash after 10769\n",
    "searchTerms = [\"Company Name\", \"Address 1\", \"City\", \"State\"]\n",
    "key = \"Phone\"\n",
    "sourceFile = \"mc_2019.csv\"\n",
    "indices = list(range(10770, 11000))\n",
    "filePath = \"/home/spencer/Documents/Projects/scrape/data/mcdonalds_data_batch_21/\"\n",
    "# simpleScraper(sourceFile=sourceFile, searchTerms=searchTerms,key=key,indices=indices,wait=[1,1.5],combine=False,filePath=filePath, checkAddress=False, limit=2400, firefox=True)"
   ]
  },
  {
   "cell_type": "code",
   "execution_count": null,
   "metadata": {},
   "outputs": [],
   "source": [
    "# mcdonalds 2019 batch 21, crash after 10792\n",
    "searchTerms = [\"Company Name\", \"Address 1\", \"City\", \"State\"]\n",
    "key = \"Phone\"\n",
    "sourceFile = \"mc_2019.csv\"\n",
    "indices = list(range(10793, 11000))\n",
    "filePath = \"/home/spencer/Documents/Projects/scrape/data/mcdonalds_data_batch_21/\"\n",
    "# simpleScraper(sourceFile=sourceFile, searchTerms=searchTerms,key=key,indices=indices,wait=[1,1.5],combine=False,filePath=filePath, checkAddress=False, limit=2400, firefox=True)"
   ]
  },
  {
   "cell_type": "code",
   "execution_count": null,
   "metadata": {},
   "outputs": [],
   "source": [
    "# mcdonalds 2019 batch 23\n",
    "searchTerms = [\"Company Name\", \"Address 1\", \"City\", \"State\"]\n",
    "key = \"Phone\"\n",
    "sourceFile = \"mc_2019.csv\"\n",
    "indices = list(range(11500, 12000))\n",
    "filePath = \"/home/spencer/Documents/Projects/scrape/data/mcdonalds_data_batch_23/\"\n",
    "# simpleScraper(sourceFile=sourceFile, searchTerms=searchTerms,key=key,indices=indices,wait=[1,1.5],combine=False,filePath=filePath, checkAddress=False, limit=2400, firefox=True)"
   ]
  },
  {
   "cell_type": "code",
   "execution_count": null,
   "metadata": {},
   "outputs": [],
   "source": [
    "# mcdonalds 2019 batch 23\n",
    "searchTerms = [\"Company Name\", \"Address 1\", \"City\", \"State\"]\n",
    "key = \"Phone\"\n",
    "sourceFile = \"mc_2019.csv\"\n",
    "indices = list(range(12500, 13000))\n",
    "filePath = \"/home/spencer/Documents/Projects/scrape/data/mcdonalds_data_batch_24/\"\n",
    "# simpleScraper(sourceFile=sourceFile, searchTerms=searchTerms,key=key,indices=indices,wait=[1,1.5],combine=False,filePath=filePath, checkAddress=False, limit=2400, firefox=True)"
   ]
  },
  {
   "cell_type": "code",
   "execution_count": null,
   "metadata": {},
   "outputs": [],
   "source": [
    "# mcdonalds 2019 batch 23\n",
    "searchTerms = [\"Company Name\", \"Address 1\", \"City\", \"State\"]\n",
    "key = \"Phone\"\n",
    "sourceFile = \"mc_2019.csv\"\n",
    "indices = list(range(12505, 13000))\n",
    "filePath = \"/home/spencer/Documents/Projects/scrape/data/mcdonalds_data_batch_24/\"\n",
    "# simpleScraper(sourceFile=sourceFile, searchTerms=searchTerms,key=key,indices=indices,wait=[1,1.5],combine=False,filePath=filePath, checkAddress=False, limit=2400, firefox=True)"
   ]
  },
  {
   "cell_type": "code",
   "execution_count": null,
   "metadata": {},
   "outputs": [],
   "source": [
    "# mcdonalds 2019 batch 23\n",
    "searchTerms = [\"Company Name\", \"Address 1\", \"City\", \"State\"]\n",
    "key = \"Phone\"\n",
    "sourceFile = \"mc_2019.csv\"\n",
    "indices = list(range(12564, 13000))\n",
    "filePath = \"/home/spencer/Documents/Projects/scrape/data/mcdonalds_data_batch_24/\"\n",
    "# simpleScraper(sourceFile=sourceFile, searchTerms=searchTerms,key=key,indices=indices,wait=[1,1.5],combine=False,filePath=filePath, checkAddress=False, limit=2400, firefox=True)"
   ]
  },
  {
   "cell_type": "code",
   "execution_count": null,
   "metadata": {},
   "outputs": [],
   "source": [
    "# mcdonalds 2019 batch 25\n",
    "searchTerms = [\"Company Name\", \"Address 1\", \"City\", \"State\"]\n",
    "key = \"Phone\"\n",
    "sourceFile = \"mc_2019.csv\"\n",
    "indices = list(range(13000, 13500))\n",
    "filePath = \"/home/spencer/Documents/Projects/scrape/data/mcdonalds_data_batch_25/\"\n",
    "# simpleScraper(sourceFile=sourceFile, searchTerms=searchTerms,key=key,indices=indices,wait=[1,1.5],combine=False,filePath=filePath, checkAddress=False, limit=2400, firefox=True)"
   ]
  },
  {
   "cell_type": "code",
   "execution_count": null,
   "metadata": {},
   "outputs": [],
   "source": [
    "# mcdonalds 2019 batch 25\n",
    "searchTerms = [\"Company Name\", \"Address 1\", \"City\", \"State\"]\n",
    "key = \"Phone\"\n",
    "sourceFile = \"mc_2019.csv\"\n",
    "indices = list(range(13063, 13500))\n",
    "filePath = \"/home/spencer/Documents/Projects/scrape/data/mcdonalds_data_batch_25/\"\n",
    "# simpleScraper(sourceFile=sourceFile, searchTerms=searchTerms,key=key,indices=indices,wait=[1,1.5],combine=False,filePath=filePath, checkAddress=False, limit=2400, firefox=True)"
   ]
  },
  {
   "cell_type": "code",
   "execution_count": null,
   "metadata": {},
   "outputs": [],
   "source": [
    "# mcdonalds 2019 batch 26\n",
    "searchTerms = [\"Company Name\", \"Address 1\", \"City\", \"State\"]\n",
    "key = \"Phone\"\n",
    "sourceFile = \"mc_2019.csv\"\n",
    "indices = list(range(13500, 13959))\n",
    "filePath = \"/home/spencer/Documents/Projects/scrape/data/mcdonalds_data_batch_26/\"\n",
    "# simpleScraper(sourceFile=sourceFile, searchTerms=searchTerms,key=key,indices=indices,wait=[1,1.5],combine=False,filePath=filePath, checkAddress=False, limit=2400, firefox=True)"
   ]
  },
  {
   "cell_type": "code",
   "execution_count": null,
   "metadata": {},
   "outputs": [],
   "source": [
    "# mcdonalds 2019 batch 26\n",
    "searchTerms = [\"Company Name\", \"Address 1\", \"City\", \"State\"]\n",
    "key = \"Phone\"\n",
    "sourceFile = \"mc_2019.csv\"\n",
    "indices = list(range(13560, 13959))\n",
    "filePath = \"/home/spencer/Documents/Projects/scrape/data/mcdonalds_data_batch_26/\"\n",
    "# simpleScraper(sourceFile=sourceFile, searchTerms=searchTerms,key=key,indices=indices,wait=[1,1.5],combine=False,filePath=filePath, checkAddress=False, limit=2400, firefox=True)"
   ]
  },
  {
   "cell_type": "code",
   "execution_count": null,
   "metadata": {},
   "outputs": [],
   "source": [
    "# mcdonalds 2019 batch 26\n",
    "searchTerms = [\"Company Name\", \"Address 1\", \"City\", \"State\"]\n",
    "key = \"Phone\"\n",
    "sourceFile = \"mc_2019.csv\"\n",
    "indices = list(range(13583, 13959))\n",
    "filePath = \"/home/spencer/Documents/Projects/scrape/data/mcdonalds_data_batch_26/\"\n",
    "# simpleScraper(sourceFile=sourceFile, searchTerms=searchTerms,key=key,indices=indices,wait=[1,1.5],combine=False,filePath=filePath, checkAddress=False, limit=2400, firefox=True)"
   ]
  },
  {
   "cell_type": "code",
   "execution_count": null,
   "metadata": {},
   "outputs": [],
   "source": [
    "# getting 2018 data\n",
    "import pandas as pandas\n",
    "mc_2018 = pd.read_excel(\"/home/spencer/Documents/Projects/scrape/data/mc.xlsx\", sheet_name=\"2018\")\n",
    "mc_2018.head()"
   ]
  },
  {
   "cell_type": "code",
   "execution_count": null,
   "metadata": {},
   "outputs": [],
   "source": [
    "# mcdonalds 2018 batch 1\n",
    "searchTerms = [\"Company Name\", \"Address 1\", \"City\", \"State\"]\n",
    "key = \"Phone\"\n",
    "sourceFile = \"mc_2018.csv\"\n",
    "indices = list(range(0, 1000))\n",
    "filePath = \"/home/spencer/Documents/Projects/scrape/data/mcdonalds_2018_batch_1/\"\n",
    "# simpleScraper(sourceFile=sourceFile, searchTerms=searchTerms,key=key,indices=indices,wait=[1,1.5],combine=False,filePath=filePath, checkAddress=False, limit=2400, firefox=True)"
   ]
  },
  {
   "cell_type": "code",
   "execution_count": null,
   "metadata": {},
   "outputs": [],
   "source": [
    "# mcdonalds 2018 batch 1\n",
    "searchTerms = [\"Company Name\", \"Address 1\", \"City\", \"State\"]\n",
    "key = \"Phone\"\n",
    "sourceFile = \"mc_2018.csv\"\n",
    "indices = list(range(37, 1000))\n",
    "filePath = \"/home/spencer/Documents/Projects/scrape/data/mcdonalds_2018_batch_1/\"\n",
    "# simpleScraper(sourceFile=sourceFile, searchTerms=searchTerms,key=key,indices=indices,wait=[1,1.5],combine=False,filePath=filePath, checkAddress=False, limit=2400, firefox=True)"
   ]
  },
  {
   "cell_type": "code",
   "execution_count": null,
   "metadata": {},
   "outputs": [],
   "source": [
    "# mcdonalds 2018 batch 1\n",
    "searchTerms = [\"Company Name\", \"Address 1\", \"City\", \"State\"]\n",
    "key = \"Phone\"\n",
    "sourceFile = \"mc_2018.csv\"\n",
    "indices = list(range(56, 1000))\n",
    "filePath = \"/home/spencer/Documents/Projects/scrape/data/mcdonalds_2018_batch_1/\"\n",
    "# simpleScraper(sourceFile=sourceFile, searchTerms=searchTerms,key=key,indices=indices,wait=[1,1.5],combine=False,filePath=filePath, checkAddress=False, limit=2400, firefox=True)"
   ]
  },
  {
   "cell_type": "code",
   "execution_count": null,
   "metadata": {},
   "outputs": [],
   "source": [
    "# mcdonalds 2018 batch 1\n",
    "searchTerms = [\"Company Name\", \"Address 1\", \"City\", \"State\"]\n",
    "key = \"Phone\"\n",
    "sourceFile = \"mc_2018.csv\"\n",
    "indices = list(range(693, 1000))\n",
    "filePath = \"/home/spencer/Documents/Projects/scrape/data/mcdonalds_2018_batch_1/\"\n",
    "# simpleScraper(sourceFile=sourceFile, searchTerms=searchTerms,key=key,indices=indices,wait=[1,1.5],combine=False,filePath=filePath, checkAddress=False, limit=2400, firefox=True)"
   ]
  },
  {
   "cell_type": "code",
   "execution_count": null,
   "metadata": {},
   "outputs": [],
   "source": [
    "# mcdonalds 2018 batch 1\n",
    "searchTerms = [\"Company Name\", \"Address 1\", \"City\", \"State\"]\n",
    "key = \"Phone\"\n",
    "sourceFile = \"mc_2018.csv\"\n",
    "indices = list(range(779, 1000))\n",
    "filePath = \"/home/spencer/Documents/Projects/scrape/data/mcdonalds_2018_batch_1/\"\n",
    "# simpleScraper(sourceFile=sourceFile, searchTerms=searchTerms,key=key,indices=indices,wait=[1,1.5],combine=False,filePath=filePath, checkAddress=False, limit=2400, firefox=True)"
   ]
  },
  {
   "cell_type": "code",
   "execution_count": null,
   "metadata": {},
   "outputs": [],
   "source": [
    "# mcdonalds 2018 batch 2\n",
    "searchTerms = [\"Company Name\", \"Address 1\", \"City\", \"State\"]\n",
    "key = \"Phone\"\n",
    "sourceFile = \"mc_2018.csv\"\n",
    "indices = list(range(1000, 2000))\n",
    "filePath = \"/home/spencer/Documents/Projects/scrape/data/mcdonalds_2018_batch_2/\"\n",
    "# simpleScraper(sourceFile=sourceFile, searchTerms=searchTerms,key=key,indices=indices,wait=[1,1.5],combine=False,filePath=filePath, checkAddress=False, limit=2400, firefox=True)"
   ]
  },
  {
   "cell_type": "code",
   "execution_count": null,
   "metadata": {},
   "outputs": [],
   "source": [
    "# mcdonalds 2018 batch 2\n",
    "searchTerms = [\"Company Name\", \"Address 1\", \"City\", \"State\"]\n",
    "key = \"Phone\"\n",
    "sourceFile = \"mc_2018.csv\"\n",
    "indices = list(range(1400, 2000))\n",
    "filePath = \"/home/spencer/Documents/Projects/scrape/data/mcdonalds_2018_batch_2/\"\n",
    "# simpleScraper(sourceFile=sourceFile, searchTerms=searchTerms,key=key,indices=indices,wait=[1,1.5],combine=False,filePath=filePath, checkAddress=False, limit=2400, firefox=True)"
   ]
  },
  {
   "cell_type": "code",
   "execution_count": null,
   "metadata": {},
   "outputs": [],
   "source": [
    "# mcdonalds 2018 batch 2\n",
    "searchTerms = [\"Company Name\", \"Address 1\", \"City\", \"State\"]\n",
    "key = \"Phone\"\n",
    "sourceFile = \"mc_2018.csv\"\n",
    "indices = list(range(1504, 2000))\n",
    "filePath = \"/home/spencer/Documents/Projects/scrape/data/mcdonalds_2018_batch_2/\"\n",
    "# simpleScraper(sourceFile=sourceFile, searchTerms=searchTerms,key=key,indices=indices,wait=[1,1.5],combine=False,filePath=filePath, checkAddress=False, limit=2400, firefox=True)"
   ]
  },
  {
   "cell_type": "code",
   "execution_count": null,
   "metadata": {},
   "outputs": [],
   "source": [
    "# mcdonalds 2018 batch 2\n",
    "searchTerms = [\"Company Name\", \"Address 1\", \"City\", \"State\"]\n",
    "key = \"Phone\"\n",
    "sourceFile = \"mc_2018.csv\"\n",
    "indices = list(range(1783, 2000))\n",
    "filePath = \"/home/spencer/Documents/Projects/scrape/data/mcdonalds_2018_batch_2/\"\n",
    "# simpleScraper(sourceFile=sourceFile, searchTerms=searchTerms,key=key,indices=indices,wait=[1,1.5],combine=False,filePath=filePath, checkAddress=False, limit=2400, firefox=True)"
   ]
  },
  {
   "cell_type": "code",
   "execution_count": null,
   "metadata": {},
   "outputs": [],
   "source": [
    "# mcdonalds 2018 batch 2\n",
    "searchTerms = [\"Company Name\", \"Address 1\", \"City\", \"State\"]\n",
    "key = \"Phone\"\n",
    "sourceFile = \"mc_2018.csv\"\n",
    "indices = list(range(1970, 2000))\n",
    "filePath = \"/home/spencer/Documents/Projects/scrape/data/mcdonalds_2018_batch_2/\"\n",
    "# simpleScraper(sourceFile=sourceFile, searchTerms=searchTerms,key=key,indices=indices,wait=[1,1.5],combine=False,filePath=filePath, checkAddress=False, limit=2400, firefox=True)"
   ]
  },
  {
   "cell_type": "code",
   "execution_count": null,
   "metadata": {},
   "outputs": [],
   "source": [
    "# mcdonalds 2018 batch 4\n",
    "searchTerms = [\"Company Name\", \"Address 1\", \"City\", \"State\"]\n",
    "key = \"Phone\"\n",
    "sourceFile = \"mc_2018.csv\"\n",
    "indices = list(range(3000, 4000))\n",
    "filePath = \"/home/spencer/Documents/Projects/scrape/data/mcdonalds_2018_batch_4/\"\n",
    "# simpleScraper(sourceFile=sourceFile, searchTerms=searchTerms,key=key,indices=indices,wait=[1,1.5],combine=False,filePath=filePath, checkAddress=False, limit=2400, firefox=True)"
   ]
  },
  {
   "cell_type": "code",
   "execution_count": 1,
   "metadata": {},
   "outputs": [],
   "source": [
    "import pandas as pd \n",
    "mc_2019 = pd.read_csv(\"mc_2019.csv\")\n",
    "mc_2018 = pd.read_csv(\"mc_2018.csv\")\n",
    "mc_2017 = pd.read_csv(\"mc_2017.csv\")\n",
    "mc_2016 = pd.read_csv(\"mc_2016.csv\")"
   ]
  },
  {
   "cell_type": "code",
   "execution_count": 7,
   "metadata": {},
   "outputs": [],
   "source": [
    "old_years = mc_2018.append(mc_2017, ignore_index=True).append(mc_2016, ignore_index=True).drop_duplicates(\"Company ID\")"
   ]
  },
  {
   "cell_type": "code",
   "execution_count": 10,
   "metadata": {},
   "outputs": [],
   "source": [
    "mc_old = old_years[~(old_years[\"Company ID\"].isin(mc_2019[\"Company ID\"]))]"
   ]
  },
  {
   "cell_type": "code",
   "execution_count": 12,
   "metadata": {},
   "outputs": [],
   "source": [
    "mc_old.to_csv(\"mc_old.csv\", index=False)"
   ]
  },
  {
   "cell_type": "code",
   "execution_count": null,
   "metadata": {},
   "outputs": [],
   "source": []
  }
 ]
}