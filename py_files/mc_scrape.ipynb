{
 "metadata": {
  "language_info": {
   "codemirror_mode": {
    "name": "ipython",
    "version": 3
   },
   "file_extension": ".py",
   "mimetype": "text/x-python",
   "name": "python",
   "nbconvert_exporter": "python",
   "pygments_lexer": "ipython3",
   "version": 3
  },
  "orig_nbformat": 2
 },
 "nbformat": 4,
 "nbformat_minor": 2,
 "cells": [
  {
   "cell_type": "code",
   "execution_count": 1,
   "metadata": {},
   "outputs": [],
   "source": [
    "import pandas as pd"
   ]
  },
  {
   "cell_type": "code",
   "execution_count": 2,
   "metadata": {},
   "outputs": [],
   "source": [
    "mc_2019 = pd.read_excel(\"/home/spencer/Documents/Projects/scrape/Sales Data_.xlsx\", sheet_name=\"2019\")"
   ]
  },
  {
   "cell_type": "code",
   "execution_count": 10,
   "metadata": {},
   "outputs": [],
   "source": [
    "mc_2019 = mc_2019.iloc[:,[0, 3, 4, 5, 6, 7, 9, 10]]"
   ]
  },
  {
   "cell_type": "code",
   "execution_count": 14,
   "metadata": {},
   "outputs": [],
   "source": [
    "mc_2019 = mc_2019.rename(columns={\"Company ID\":\"Store Company ID\"})"
   ]
  },
  {
   "cell_type": "code",
   "execution_count": 15,
   "metadata": {},
   "outputs": [],
   "source": [
    "mc_2019.to_csv(\"mc_2019.csv\", index=False)"
   ]
  },
  {
   "cell_type": "code",
   "execution_count": null,
   "metadata": {},
   "outputs": [],
   "source": [
    "# mcdonalds 2019 batch 1\n",
    "searchTerms = [\"Company Name\", \"Address 1\", \"City\", \"State\"]\n",
    "key = \"Phone\"\n",
    "sourceFile = \"mc_2019.csv\"\n",
    "indices = list(range(0, 500))\n",
    "filePath = \"/home/spencer/Documents/Projects/scrape/mcdonalds_data/\"\n",
    "# simpleScraper(sourceFile=sourceFile, searchTerms=searchTerms,key=key,indices=indices,wait=[1,1.5],combine=False,filePath=filePath, checkAddress=False, limit=2400)"
   ]
  },
  {
   "cell_type": "code",
   "execution_count": null,
   "metadata": {},
   "outputs": [],
   "source": [
    "# mcdonalds 2019 batch 1, set limit to 2400\n",
    "searchTerms = [\"Company Name\", \"Address 1\", \"City\", \"State\"]\n",
    "key = \"Phone\"\n",
    "sourceFile = \"mc_2019.csv\"\n",
    "indices = list(range(3, 500))\n",
    "filePath = \"/home/spencer/Documents/Projects/scrape/mcdonalds_data/\"\n",
    "# simpleScraper(sourceFile=sourceFile, searchTerms=searchTerms,key=key,indices=indices,wait=[1,1.5],combine=False,filePath=filePath, checkAddress=False, limit=2400)"
   ]
  },
  {
   "cell_type": "code",
   "execution_count": null,
   "metadata": {},
   "outputs": [],
   "source": [
    "# mcdonalds 2019 batch 1, failed after 262\n",
    "searchTerms = [\"Company Name\", \"Address 1\", \"City\", \"State\"]\n",
    "key = \"Phone\"\n",
    "sourceFile = \"mc_2019.csv\"\n",
    "indices = list(range(263, 500))\n",
    "filePath = \"/home/spencer/Documents/Projects/scrape/mcdonalds_data/\"\n",
    "# simpleScraper(sourceFile=sourceFile, searchTerms=searchTerms,key=key,indices=indices,wait=[1,1.5],combine=False,filePath=filePath, checkAddress=False, limit=2400)"
   ]
  },
  {
   "cell_type": "code",
   "execution_count": null,
   "metadata": {},
   "outputs": [],
   "source": [
    "# mcdonalds 2019 batch 1, chrome crash after 338\n",
    "searchTerms = [\"Company Name\", \"Address 1\", \"City\", \"State\"]\n",
    "key = \"Phone\"\n",
    "sourceFile = \"mc_2019.csv\"\n",
    "indices = list(range(339, 500))\n",
    "filePath = \"/home/spencer/Documents/Projects/scrape/mcdonalds_data/\"\n",
    "# simpleScraper(sourceFile=sourceFile, searchTerms=searchTerms,key=key,indices=indices,wait=[1,1.5],combine=False,filePath=filePath, checkAddress=False, limit=2400)"
   ]
  },
  {
   "cell_type": "code",
   "execution_count": null,
   "metadata": {},
   "outputs": [],
   "source": [
    "# mcdonalds 2019 batch 1, chrome crash after 362\n",
    "searchTerms = [\"Company Name\", \"Address 1\", \"City\", \"State\"]\n",
    "key = \"Phone\"\n",
    "sourceFile = \"mc_2019.csv\"\n",
    "indices = list(range(363, 500))\n",
    "filePath = \"/home/spencer/Documents/Projects/scrape/mcdonalds_data/\"\n",
    "# simpleScraper(sourceFile=sourceFile, searchTerms=searchTerms,key=key,indices=indices,wait=[1,1.5],combine=False,filePath=filePath, checkAddress=False, limit=2400)"
   ]
  },
  {
   "cell_type": "code",
   "execution_count": null,
   "metadata": {},
   "outputs": [],
   "source": [
    "# mcdonalds 2019 batch 1, chrome crash after 362\n",
    "searchTerms = [\"Company Name\", \"Address 1\", \"City\", \"State\"]\n",
    "key = \"Phone\"\n",
    "sourceFile = \"mc_2019.csv\"\n",
    "indices = list(range(380, 500))\n",
    "filePath = \"/home/spencer/Documents/Projects/scrape/mcdonalds_data/\"\n",
    "# simpleScraper(sourceFile=sourceFile, searchTerms=searchTerms,key=key,indices=indices,wait=[1,1.5],combine=False,filePath=filePath, checkAddress=False, limit=2400)"
   ]
  },
  {
   "cell_type": "code",
   "execution_count": null,
   "metadata": {},
   "outputs": [],
   "source": [
    "# mcdonalds 2019 batch 1, stopped after 463\n",
    "searchTerms = [\"Company Name\", \"Address 1\", \"City\", \"State\"]\n",
    "key = \"Phone\"\n",
    "sourceFile = \"mc_2019.csv\"\n",
    "indices = list(range(464, 500))\n",
    "filePath = \"/home/spencer/Documents/Projects/scrape/mcdonalds_data/\"\n",
    "# simpleScraper(sourceFile=sourceFile, searchTerms=searchTerms,key=key,indices=indices,wait=[1,1.5],combine=False,filePath=filePath, checkAddress=False, limit=2400)"
   ]
  }
 ]
}