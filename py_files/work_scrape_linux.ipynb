{
 "cells": [
  {
   "cell_type": "code",
   "execution_count": null,
   "metadata": {},
   "outputs": [],
   "source": [
    "# jets pizza\n",
    "searchTerms = [\"Company Name\", \"Address 1\", \"City\", \"State\"]\n",
    "key = \"Phone\"\n",
    "sourceFile = \"jets_pizza.csv\"\n",
    "indices = list(range(0, 385))\n",
    "filePath = \"/home/spencer/Documents/Projects/scrape/py_files/scrapes/\"\n",
    "# simpleScraper(sourceFile=sourceFile, searchTerms=searchTerms,key=key,indices=indices,wait=[1,1.5],combine=False,filePath=filePath, checkAddress=False)"
   ]
  },
  {
   "cell_type": "code",
   "execution_count": null,
   "metadata": {},
   "outputs": [],
   "source": [
    "# mountain mikes\n",
    "searchTerms = [\"Company Name\", \"Address 1\", \"City\", \"State\"]\n",
    "key = \"Phone\"\n",
    "sourceFile = \"mountain_mikes_pizza.csv\"\n",
    "indices = list(range(0, 210))\n",
    "filePath = \"/home/spencer/Documents/Projects/scrape/py_files/scrapes/\"\n",
    "# simpleScraper(sourceFile=sourceFile, searchTerms=searchTerms,key=key,indices=indices,wait=[1,1.5],combine=False,filePath=filePath, checkAddress=False)"
   ]
  },
  {
   "cell_type": "code",
   "execution_count": null,
   "metadata": {},
   "outputs": [],
   "source": [
    "# simple simons\n",
    "searchTerms = [\"Company Name\", \"Address 1\", \"City\", \"State\"]\n",
    "key = \"Phone\"\n",
    "sourceFile = \"simple_simons_pizza.csv\"\n",
    "indices = list(range(0, 160))\n",
    "filePath = \"/home/spencer/Documents/Projects/scrape/py_files/scrapes/\"\n",
    "# simpleScraper(sourceFile=sourceFile, searchTerms=searchTerms,key=key,indices=indices,wait=[1,1.5],combine=False,filePath=filePath, checkAddress=False)"
   ]
  },
  {
   "cell_type": "code",
   "execution_count": null,
   "metadata": {},
   "outputs": [],
   "source": [
    "# pizza factory\n",
    "searchTerms = [\"Company Name\", \"Address 1\", \"City\", \"State\"]\n",
    "key = \"Phone\"\n",
    "sourceFile = \"pizza_factory.csv\"\n",
    "indices = list(range(0, 103))\n",
    "filePath = \"/home/spencer/Documents/Projects/scrape/py_files/scrapes/\"\n",
    "# simpleScraper(sourceFile=sourceFile, searchTerms=searchTerms,key=key,indices=indices,wait=[1,1.5],combine=False,filePath=filePath, checkAddress=False)"
   ]
  },
  {
   "cell_type": "code",
   "execution_count": null,
   "metadata": {},
   "outputs": [],
   "source": [
    "# ledo pizza\n",
    "searchTerms = [\"Company Name\", \"Address 1\", \"City\", \"State\"]\n",
    "key = \"Phone\"\n",
    "sourceFile = \"ledo_pizza.csv\"\n",
    "indices = list(range(0, 101))\n",
    "filePath = \"/home/spencer/Documents/Projects/scrape/py_files/scrapes/\"\n",
    "# simpleScraper(sourceFile=sourceFile, searchTerms=searchTerms,key=key,indices=indices,wait=[1,1.5],combine=False,filePath=filePath, checkAddress=False)"
   ]
  },
  {
   "cell_type": "code",
   "execution_count": null,
   "metadata": {},
   "outputs": [],
   "source": [
    "# vocelli pizza\n",
    "searchTerms = [\"Company Name\", \"Address 1\", \"City\", \"State\"]\n",
    "key = \"Phone\"\n",
    "sourceFile = \"vocelli_pizza.csv\"\n",
    "indices = list(range(0, 87))\n",
    "filePath = \"/home/spencer/Documents/Projects/scrape/py_files/scrapes/\"\n",
    "# simpleScraper(sourceFile=sourceFile, searchTerms=searchTerms,key=key,indices=indices,wait=[1,1.5],combine=False,filePath=filePath, checkAddress=False)"
   ]
  },
  {
   "cell_type": "code",
   "execution_count": null,
   "metadata": {},
   "outputs": [],
   "source": [
    "# papa ginos\n",
    "searchTerms = [\"Company Name\", \"Address 1\", \"City\", \"State\"]\n",
    "key = \"Phone\"\n",
    "sourceFile = \"papa_ginos_pizzeria.csv\"\n",
    "indices = list(range(0, 87))\n",
    "filePath = \"/home/spencer/Documents/Projects/scrape/py_files/scrapes/\"\n",
    "# simpleScraper(sourceFile=sourceFile, searchTerms=searchTerms,key=key,indices=indices,wait=[1,1.5],combine=False,filePath=filePath, checkAddress=False)"
   ]
  },
  {
   "cell_type": "code",
   "execution_count": null,
   "metadata": {},
   "outputs": [],
   "source": [
    "# dangelo\n",
    "searchTerms = [\"Company Name\", \"Address 1\", \"City\", \"State\"]\n",
    "key = \"Phone\"\n",
    "sourceFile = \"dangelo_grilled_sandwiches.csv\"\n",
    "indices = list(range(0, 83))\n",
    "filePath = \"/home/spencer/Documents/Projects/scrape/py_files/scrapes/\"\n",
    "# simpleScraper(sourceFile=sourceFile, searchTerms=searchTerms,key=key,indices=indices,wait=[1,1.5],combine=False,filePath=filePath, checkAddress=False)"
   ]
  },
  {
   "cell_type": "code",
   "execution_count": null,
   "metadata": {},
   "outputs": [],
   "source": [
    "# dangelo 2\n",
    "# failed after index 13\n",
    "searchTerms = [\"Company Name\", \"Address 1\", \"City\", \"State\"]\n",
    "key = \"Phone\"\n",
    "sourceFile = \"dangelo_grilled_sandwiches.csv\"\n",
    "indices = list(range(14, 83))\n",
    "filePath = \"/home/spencer/Documents/Projects/scrape/py_files/scrapes/\"\n",
    "# simpleScraper(sourceFile=sourceFile, searchTerms=searchTerms,key=key,indices=indices,wait=[1,1.5],combine=False,filePath=filePath, checkAddress=False)"
   ]
  },
  {
   "cell_type": "code",
   "execution_count": null,
   "metadata": {},
   "outputs": [],
   "source": [
    "# pizza bolis\n",
    "searchTerms = [\"Company Name\", \"Address 1\", \"City\", \"State\"]\n",
    "key = \"Phone\"\n",
    "sourceFile = \"pizza_bolis.csv\"\n",
    "indices = list(range(1, 80))\n",
    "filePath = \"/home/spencer/Documents/Projects/scrape/py_files/scrapes/\"\n",
    "# simpleScraper(sourceFile=sourceFile, searchTerms=searchTerms,key=key,indices=indices,wait=[1,1.5],combine=False,filePath=filePath, checkAddress=False)"
   ]
  },
  {
   "cell_type": "code",
   "execution_count": null,
   "metadata": {},
   "outputs": [],
   "source": [
    "# giordanos\n",
    "searchTerms = [\"Company Name\", \"Address 1\", \"City\", \"State\"]\n",
    "key = \"Phone\"\n",
    "sourceFile = \"giordanos_restaurant_&_pizza.csv\"\n",
    "indices = list(range(1, 69))\n",
    "filePath = \"/home/spencer/Documents/Projects/scrape/py_files/scrapes/\"\n",
    "# simpleScraper(sourceFile=sourceFile, searchTerms=searchTerms,key=key,indices=indices,wait=[1,1.5],combine=False,filePath=filePath, checkAddress=False)"
   ]
  },
  {
   "cell_type": "code",
   "execution_count": 2,
   "metadata": {},
   "outputs": [
    {
     "output_type": "execute_result",
     "data": {
      "text/plain": "45238         2\n45238-4124    1\n45213-1620    1\n41035-8800    1\n41076         1\n             ..\n41011-1519    1\n45014-4007    1\n45224-2978    1\n45227-3747    1\n45217-1232    1\nName: Zip, Length: 65, dtype: int64"
     },
     "metadata": {},
     "execution_count": 2
    }
   ],
   "source": [
    "import pandas as pd\n",
    "df = pd.read_csv(\"larosas_pizzeria.csv\")\n",
    "df[\"Zip\"].value_counts()"
   ]
  },
  {
   "cell_type": "code",
   "execution_count": null,
   "metadata": {},
   "outputs": [],
   "source": [
    "# larosas\n",
    "searchTerms = [\"Company Name\", \"Address 1\", \"City\", \"State\"]\n",
    "key = \"Google Link\"\n",
    "sourceFile = \"larosas_pizzeria.csv\"\n",
    "indices = list(range(0, 66))\n",
    "filePath = \"/home/spencer/Documents/Projects/scrape/py_files/scrapes/\"\n",
    "# simpleScraper(sourceFile=sourceFile, searchTerms=searchTerms,key=key,indices=indices,wait=[1,1.5],combine=False,filePath=filePath, checkAddress=False)"
   ]
  },
  {
   "cell_type": "code",
   "execution_count": null,
   "metadata": {},
   "outputs": [],
   "source": [
    "# larosas 2\n",
    "# failure after index 3\n",
    "searchTerms = [\"Company Name\", \"Address 1\", \"City\", \"State\"]\n",
    "key = \"Google Link\"\n",
    "sourceFile = \"larosas_pizzeria.csv\"\n",
    "indices = list(range(4, 66))\n",
    "filePath = \"/home/spencer/Documents/Projects/scrape/py_files/scrapes/\"\n",
    "# simpleScraper(sourceFile=sourceFile, searchTerms=searchTerms,key=key,indices=indices,wait=[1,1.5],combine=False,filePath=filePath, checkAddress=False)"
   ]
  },
  {
   "cell_type": "code",
   "execution_count": null,
   "metadata": {},
   "outputs": [],
   "source": [
    "# gattis\n",
    "searchTerms = [\"Company Name\", \"Address 1\", \"City\", \"State\"]\n",
    "key = \"Google Link\"\n",
    "sourceFile = \"gattis_pizza.csv\"\n",
    "indices = list(range(0, 64))\n",
    "filePath = \"/home/spencer/Documents/Projects/scrape/py_files/scrapes/\"\n",
    "# simpleScraper(sourceFile=sourceFile, searchTerms=searchTerms,key=key,indices=indices,wait=[1,1.5],combine=False,filePath=filePath, checkAddress=False)"
   ]
  },
  {
   "cell_type": "code",
   "execution_count": null,
   "metadata": {},
   "outputs": [],
   "source": [
    "# cottage inn pizza\n",
    "searchTerms = [\"Company Name\", \"Address 1\", \"City\", \"State\"]\n",
    "key = \"Phone\"\n",
    "sourceFile = \"cottage_inn_pizza.csv\"\n",
    "indices = list(range(0, 53))\n",
    "filePath = \"/home/spencer/Documents/Projects/scrape/py_files/scrapes/\"\n",
    "# simpleScraper(sourceFile=sourceFile, searchTerms=searchTerms,key=key,indices=indices,wait=[1,1.5],combine=False,filePath=filePath, checkAddress=False)"
   ]
  },
  {
   "cell_type": "code",
   "execution_count": null,
   "metadata": {},
   "outputs": [],
   "source": [
    "# cottage inn pizza\n",
    "# keeps failing after index 0\n",
    "searchTerms = [\"Company Name\", \"Address 1\", \"City\", \"State\"]\n",
    "key = \"Phone\"\n",
    "sourceFile = \"shakeys_pizza_parlor.csv\"\n",
    "indices = list(range(1, 50))\n",
    "filePath = \"/home/spencer/Documents/Projects/scrape/py_files/scrapes/\"\n",
    "# simpleScraper(sourceFile=sourceFile, searchTerms=searchTerms,key=key,indices=indices,wait=[1,1.5],combine=False,filePath=filePath, checkAddress=False)"
   ]
  },
  {
   "cell_type": "code",
   "execution_count": null,
   "metadata": {},
   "outputs": [],
   "source": [
    "# shakeys\n",
    "searchTerms = [\"Company Name\", \"Address 1\", \"City\", \"State\"]\n",
    "key = \"Phone\"\n",
    "sourceFile = \"cottage_inn_pizza.csv\"\n",
    "indices = list(range(0, 53))\n",
    "filePath = \"/home/spencer/Documents/Projects/scrape/py_files/scrapes/\"\n",
    "# simpleScraper(sourceFile=sourceFile, searchTerms=searchTerms,key=key,indices=indices,wait=[1,1.5],combine=False,filePath=filePath, checkAddress=False)"
   ]
  },
  {
   "cell_type": "code",
   "execution_count": null,
   "metadata": {},
   "outputs": [],
   "source": [
    "# shakeys 2\n",
    "# failed after index 22\n",
    "searchTerms = [\"Company Name\", \"Address 1\", \"City\", \"State\"]\n",
    "key = \"Phone\"\n",
    "sourceFile = \"cottage_inn_pizza.csv\"\n",
    "indices = list(range(23, 53))\n",
    "filePath = \"/home/spencer/Documents/Projects/scrape/py_files/scrapes/\"\n",
    "# simpleScraper(sourceFile=sourceFile, searchTerms=searchTerms,key=key,indices=indices,wait=[1,1.5],combine=False,filePath=filePath, checkAddress=False)"
   ]
  },
  {
   "cell_type": "code",
   "execution_count": null,
   "metadata": {},
   "outputs": [],
   "source": [
    "# loumalnatis pizzeria\n",
    "# skipping index 13\n",
    "searchTerms = [\"Company Name\", \"Address 1\", \"City\", \"State\"]\n",
    "key = \"Phone\"\n",
    "sourceFile = \"lou_malnatis_pizzeria.csv\"\n",
    "indices = list(range(15, 53))\n",
    "filePath = \"/home/spencer/Documents/Projects/scrape/py_files/scrapes/\"\n",
    "# simpleScraper(sourceFile=sourceFile, searchTerms=searchTerms,key=key,indices=indices,wait=[1,1.5],combine=False,filePath=filePath, checkAddress=False)"
   ]
  },
  {
   "cell_type": "code",
   "execution_count": null,
   "metadata": {},
   "outputs": [],
   "source": [
    "# pizzarev\n",
    "searchTerms = [\"Company Name\", \"Address 1\", \"City\", \"State\"]\n",
    "key = \"Phone\"\n",
    "sourceFile = \"pizzarev.csv\"\n",
    "indices = list(range(0, 33))\n",
    "filePath = \"/home/spencer/Documents/Projects/scrape/py_files/scrapes/\"\n",
    "# simpleScraper(sourceFile=sourceFile, searchTerms=searchTerms,key=key,indices=indices,wait=[1,1.5],combine=False,filePath=filePath, checkAddress=False)"
   ]
  },
  {
   "cell_type": "code",
   "execution_count": null,
   "metadata": {},
   "outputs": [],
   "source": [
    "# brixx\n",
    "searchTerms = [\"Company Name\", \"Address 1\", \"City\", \"State\"]\n",
    "key = \"Phone\"\n",
    "sourceFile = \"brixx_wood_fired_pizza.csv\"\n",
    "indices = list(range(0, 29))\n",
    "filePath = \"/home/spencer/Documents/Projects/scrape/py_files/scrapes/\"\n",
    "# simpleScraper(sourceFile=sourceFile, searchTerms=searchTerms,key=key,indices=indices,wait=[1,1.5],combine=False,filePath=filePath, checkAddress=False)"
   ]
  },
  {
   "cell_type": "code",
   "execution_count": null,
   "metadata": {},
   "outputs": [],
   "source": [
    "# johnny_bruscos_new_york_style_pizza\n",
    "searchTerms = [\"Company Name\", \"Address 1\", \"City\", \"State\"]\n",
    "key = \"Google Link\"\n",
    "sourceFile = \"johnny_bruscos_new_york_style_pizza.csv\"\n",
    "indices = list(range(0, 17))\n",
    "filePath = \"/home/spencer/Documents/Projects/scrape/py_files/scrapes/\"\n",
    "# simpleScraper(sourceFile=sourceFile, searchTerms=searchTerms,key=key,indices=indices,wait=[1,1.5],combine=False,filePath=filePath, checkAddress=False)"
   ]
  },
  {
   "cell_type": "code",
   "execution_count": null,
   "metadata": {},
   "outputs": [],
   "source": [
    "# cicis_to_go\n",
    "searchTerms = [\"Company Name\", \"Address 1\", \"City\", \"State\"]\n",
    "key = \"Phone\"\n",
    "sourceFile = \"cicis_to_go.csv\"\n",
    "indices = list(range(0, 9))\n",
    "filePath = \"/home/spencer/Documents/Projects/scrape/py_files/scrapes/\"\n",
    "# simpleScraper(sourceFile=sourceFile, searchTerms=searchTerms,key=key,indices=indices,wait=[1,1.5],combine=False,filePath=filePath, checkAddress=False)"
   ]
  },
  {
   "cell_type": "code",
   "execution_count": null,
   "metadata": {},
   "outputs": [],
   "source": [
    "# pizza_schmizza\n",
    "searchTerms = [\"Company Name\", \"Address 1\", \"City\", \"State\"]\n",
    "key = \"Phone\"\n",
    "sourceFile = \"pizza_schmizza.csv\"\n",
    "indices = list(range(0, 9))\n",
    "filePath = \"/home/spencer/Documents/Projects/scrape/py_files/scrapes/\"\n",
    "# simpleScraper(sourceFile=sourceFile, searchTerms=searchTerms,key=key,indices=indices,wait=[1,1.5],combine=False,filePath=filePath, checkAddress=False)"
   ]
  },
  {
   "cell_type": "code",
   "execution_count": null,
   "metadata": {},
   "outputs": [],
   "source": [
    "# hungry_howies_pizza\n",
    "searchTerms = [\"Company Name\", \"Address 1\", \"City\", \"State\"]\n",
    "key = \"Phone\"\n",
    "sourceFile = \"hungry_howies_pizza.csv\"\n",
    "indices = list(range(0, 5))\n",
    "filePath = \"/home/spencer/Documents/Projects/scrape/py_files/scrapes/\"\n",
    "# simpleScraper(sourceFile=sourceFile, searchTerms=searchTerms,key=key,indices=indices,wait=[1,1.5],combine=False,filePath=filePath, checkAddress=False)"
   ]
  },
  {
   "cell_type": "code",
   "execution_count": null,
   "metadata": {},
   "outputs": [],
   "source": [
    "# gattitown\n",
    "searchTerms = [\"Company Name\", \"Address 1\", \"City\", \"State\"]\n",
    "key = \"Phone\"\n",
    "sourceFile = \"gattitown.csv\"\n",
    "indices = list(range(0, 4))\n",
    "filePath = \"/home/spencer/Documents/Projects/scrape/py_files/scrapes/\"\n",
    "# simpleScraper(sourceFile=sourceFile, searchTerms=searchTerms,key=key,indices=indices,wait=[1,1.5],combine=False,filePath=filePath, checkAddress=False)"
   ]
  },
  {
   "cell_type": "code",
   "execution_count": null,
   "metadata": {},
   "outputs": [],
   "source": [
    "# gattitown 2\n",
    "# failed after index 0\n",
    "searchTerms = [\"Company Name\", \"Address 1\", \"City\", \"State\"]\n",
    "key = \"Phone\"\n",
    "sourceFile = \"gattitown.csv\"\n",
    "indices = list(range(1, 4))\n",
    "filePath = \"/home/spencer/Documents/Projects/scrape/py_files/scrapes/\"\n",
    "# simpleScraper(sourceFile=sourceFile, searchTerms=searchTerms,key=key,indices=indices,wait=[1,1.5],combine=False,filePath=filePath, checkAddress=False)"
   ]
  },
  {
   "cell_type": "code",
   "execution_count": null,
   "metadata": {},
   "outputs": [],
   "source": [
    "# schmizza_public_house\n",
    "searchTerms = [\"Company Name\", \"Address 1\", \"City\", \"State\"]\n",
    "key = \"Phone\"\n",
    "sourceFile = \"schmizza_public_house.csv\"\n",
    "indices = list(range(0, 2))\n",
    "filePath = \"/home/spencer/Documents/Projects/scrape/py_files/scrapes/\"\n",
    "# simpleScraper(sourceFile=sourceFile, searchTerms=searchTerms,key=key,indices=indices,wait=[1,1.5],combine=False,filePath=filePath, checkAddress=False)"
   ]
  },
  {
   "cell_type": "code",
   "execution_count": null,
   "metadata": {},
   "outputs": [],
   "source": [
    "# cpk_asap\n",
    "searchTerms = [\"Company Name\", \"Address 1\", \"City\", \"State\"]\n",
    "key = \"Phone\"\n",
    "sourceFile = \"cpk_asap.csv\"\n",
    "indices = list(range(0, 2))\n",
    "filePath = \"/home/spencer/Documents/Projects/scrape/py_files/scrapes/\"\n",
    "# simpleScraper(sourceFile=sourceFile, searchTerms=searchTerms,key=key,indices=indices,wait=[1,1.5],combine=False,filePath=filePath, checkAddress=False)"
   ]
  },
  {
   "cell_type": "code",
   "execution_count": null,
   "metadata": {},
   "outputs": [],
   "source": [
    "# cpk_asap 2\n",
    "# failed after index 0\n",
    "searchTerms = [\"Company Name\", \"Address 1\", \"City\", \"State\"]\n",
    "key = \"Phone\"\n",
    "sourceFile = \"cpk_asap.csv\"\n",
    "indices = list(range(1, 2))\n",
    "filePath = \"/home/spencer/Documents/Projects/scrape/py_files/scrapes/\"\n",
    "# simpleScraper(sourceFile=sourceFile, searchTerms=searchTerms,key=key,indices=indices,wait=[1,1.5],combine=False,filePath=filePath, checkAddress=False)"
   ]
  },
  {
   "cell_type": "code",
   "execution_count": null,
   "metadata": {},
   "outputs": [],
   "source": [
    "# cpk_asap 2\n",
    "# failed after index 0\n",
    "searchTerms = [\"Company Name\", \"Address 1\", \"City\", \"State\"]\n",
    "key = \"Phone\"\n",
    "sourceFile = \"cpk_asap.csv\"\n",
    "indices = list(range(1, 2))\n",
    "filePath = \"/home/spencer/Documents/Projects/scrape/py_files/scrapes/\"\n",
    "# simpleScraper(sourceFile=sourceFile, searchTerms=searchTerms,key=key,indices=indices,wait=[1,1.5],combine=False,filePath=filePath, checkAddress=False)"
   ]
  },
  {
   "cell_type": "code",
   "execution_count": null,
   "metadata": {},
   "outputs": [],
   "source": [
    "# the_market_by_villa \n",
    "searchTerms = [\"Company Name\", \"Address 1\", \"City\", \"State\"]\n",
    "key = \"Phone\"\n",
    "sourceFile = \"the_market_by_villa.csv\"\n",
    "indices = list(range(0, 1))\n",
    "filePath = \"/home/spencer/Documents/Projects/scrape/py_files/scrapes/\"\n",
    "# simpleScraper(sourceFile=sourceFile, searchTerms=searchTerms,key=key,indices=indices,wait=[1,1.5],combine=False,filePath=filePath, checkAddress=False)"
   ]
  },
  {
   "cell_type": "code",
   "execution_count": null,
   "metadata": {},
   "outputs": [],
   "source": [
    "# steelworks_buffett_&_grill \n",
    "searchTerms = [\"Company Name\", \"Address 1\", \"City\", \"State\"]\n",
    "key = \"Phone\"\n",
    "sourceFile = \"steelworks_buffett_&_grill.csv\"\n",
    "indices = list(range(0, 1))\n",
    "filePath = \"/home/spencer/Documents/Projects/scrape/py_files/scrapes/\"\n",
    "# simpleScraper(sourceFile=sourceFile, searchTerms=searchTerms,key=key,indices=indices,wait=[1,1.5],combine=False,filePath=filePath, checkAddress=False)"
   ]
  },
  {
   "cell_type": "code",
   "execution_count": null,
   "metadata": {},
   "outputs": [],
   "source": [
    "# blaze\n",
    "# note this uses a key column\n",
    "searchTerms = [\"Company Name\", \"Address 1\", \"City\", \"State\"]\n",
    "key = \"Key\"\n",
    "sourceFile = \"blaze.csv\"\n",
    "indices = list(range(0, 320))\n",
    "filePath = \"/home/spencer/Documents/Projects/scrape/py_files/scrapes/\"\n",
    "# simpleScraper(sourceFile=sourceFile, searchTerms=searchTerms,key=key,indices=indices,wait=[1,1.5],combine=False,filePath=filePath, checkAddress=False)"
   ]
  },
  {
   "cell_type": "code",
   "execution_count": null,
   "metadata": {},
   "outputs": [],
   "source": [
    "# blaze\n",
    "# failed after index 43\n",
    "searchTerms = [\"Company Name\", \"Address 1\", \"City\", \"State\"]\n",
    "key = \"Key\"\n",
    "sourceFile = \"blaze.csv\"\n",
    "indices = list(range(44, 320))\n",
    "filePath = \"/home/spencer/Documents/Projects/scrape/py_files/scrapes/\"\n",
    "# simpleScraper(sourceFile=sourceFile, searchTerms=searchTerms,key=key,indices=indices,wait=[1,1.5],combine=False,filePath=filePath, checkAddress=False)"
   ]
  },
  {
   "cell_type": "code",
   "execution_count": null,
   "metadata": {},
   "outputs": [],
   "source": [
    "# mellow mushroom\n",
    "searchTerms = [\"Company Name\", \"Address 1\", \"City\", \"State\"]\n",
    "key = \"Phone\"\n",
    "sourceFile = \"mellow_mushroom.csv\"\n",
    "indices = list(range(0, 189))\n",
    "filePath = \"/home/spencer/Documents/Projects/scrape/py_files/scrapes/\"\n",
    "# simpleScraper(sourceFile=sourceFile, searchTerms=searchTerms,key=key,indices=indices,wait=[1,1.5],combine=False,filePath=filePath, checkAddress=False)"
   ]
  },
  {
   "cell_type": "code",
   "execution_count": null,
   "metadata": {},
   "outputs": [],
   "source": [
    "# mellow mushroom 2\n",
    "# failed after index 59\n",
    "searchTerms = [\"Company Name\", \"Address 1\", \"City\", \"State\"]\n",
    "key = \"Phone\"\n",
    "sourceFile = \"mellow_mushroom.csv\"\n",
    "indices = list(range(60, 189))\n",
    "filePath = \"/home/spencer/Documents/Projects/scrape/py_files/scrapes/\"\n",
    "# simpleScraper(sourceFile=sourceFile, searchTerms=searchTerms,key=key,indices=indices,wait=[1,1.5],combine=False,filePath=filePath, checkAddress=False)"
   ]
  },
  {
   "cell_type": "code",
   "execution_count": null,
   "metadata": {},
   "outputs": [],
   "source": [
    "# mellow mushroom 2\n",
    "# failed again after 60\n",
    "searchTerms = [\"Company Name\", \"Address 1\", \"City\", \"State\"]\n",
    "key = \"Phone\"\n",
    "sourceFile = \"mellow_mushroom.csv\"\n",
    "indices = list(range(61, 189))\n",
    "filePath = \"/home/spencer/Documents/Projects/scrape/py_files/scrapes/\"\n",
    "# simpleScraper(sourceFile=sourceFile, searchTerms=searchTerms,key=key,indices=indices,wait=[1,1.5],combine=False,filePath=filePath, checkAddress=False)"
   ]
  },
  {
   "cell_type": "code",
   "execution_count": null,
   "metadata": {},
   "outputs": [],
   "source": [
    "# mellow mushroom 2\n",
    "# failed again after 121, skipping\n",
    "searchTerms = [\"Company Name\", \"Address 1\", \"City\", \"State\"]\n",
    "key = \"Phone\"\n",
    "sourceFile = \"mellow_mushroom.csv\"\n",
    "indices = list(range(123, 189))\n",
    "filePath = \"/home/spencer/Documents/Projects/scrape/py_files/scrapes/\"\n",
    "# simpleScraper(sourceFile=sourceFile, searchTerms=searchTerms,key=key,indices=indices,wait=[1,1.5],combine=False,filePath=filePath, checkAddress=False)"
   ]
  },
  {
   "cell_type": "code",
   "execution_count": null,
   "metadata": {},
   "outputs": [],
   "source": [
    "# mellow mushroom 2\n",
    "# failed again after 148, skipping\n",
    "searchTerms = [\"Company Name\", \"Address 1\", \"City\", \"State\"]\n",
    "key = \"Phone\"\n",
    "sourceFile = \"mellow_mushroom.csv\"\n",
    "indices = list(range(150, 189))\n",
    "filePath = \"/home/spencer/Documents/Projects/scrape/py_files/scrapes/\"\n",
    "# simpleScraper(sourceFile=sourceFile, searchTerms=searchTerms,key=key,indices=indices,wait=[1,1.5],combine=False,filePath=filePath, checkAddress=False)"
   ]
  }
 ],
 "metadata": {
  "language_info": {
   "codemirror_mode": {
    "name": "ipython",
    "version": 3
   },
   "file_extension": ".py",
   "mimetype": "text/x-python",
   "name": "python",
   "nbconvert_exporter": "python",
   "pygments_lexer": "ipython3",
   "version": "3.7.4-final"
  },
  "orig_nbformat": 2,
  "kernelspec": {
   "name": "python37464bitbaseconda8c1944211a43459e949ea5707e72eb23",
   "display_name": "Python 3.7.4 64-bit ('base': conda)"
  }
 },
 "nbformat": 4,
 "nbformat_minor": 2
}