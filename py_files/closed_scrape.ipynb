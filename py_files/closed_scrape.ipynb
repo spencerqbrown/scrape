{
 "metadata": {
  "language_info": {
   "codemirror_mode": {
    "name": "ipython",
    "version": 3
   },
   "file_extension": ".py",
   "mimetype": "text/x-python",
   "name": "python",
   "nbconvert_exporter": "python",
   "pygments_lexer": "ipython3",
   "version": 3
  },
  "orig_nbformat": 2
 },
 "nbformat": 4,
 "nbformat_minor": 2,
 "cells": [
  {
   "cell_type": "code",
   "execution_count": null,
   "metadata": {},
   "outputs": [],
   "source": [
    "# attempting to scrape closed locations, will likely have to stop and continue\n",
    "searchTerms = [\"Company Name\", \"Address 1\", \"City\", \"State\"]\n",
    "key = \"Store Company ID\"\n",
    "sourceFile = \"/home/spencer/Documents/Projects/clean/closed_2019.csv\"\n",
    "indices = list(range(0, 1951))\n",
    "filePath = \"/home/spencer/Documents/Projects/scrape/closed_data/\"\n",
    "# simpleScraper(sourceFile=sourceFile, searchTerms=searchTerms,key=key,indices=indices,wait=[1,1.5],combine=False,filePath=filePath, checkAddress=False)"
   ]
  },
  {
   "cell_type": "code",
   "execution_count": null,
   "metadata": {},
   "outputs": [],
   "source": [
    "# had a large review total at index 41, adjusted scraper to account for it\n",
    "searchTerms = [\"Company Name\", \"Address 1\", \"City\", \"State\"]\n",
    "key = \"Store Company ID\"\n",
    "sourceFile = \"/home/spencer/Documents/Projects/clean/closed_2019.csv\"\n",
    "indices = list(range(41, 1951))\n",
    "filePath = \"/home/spencer/Documents/Projects/scrape/closed_data/\"\n",
    "limit = 3000\n",
    "# simpleScraper(sourceFile=sourceFile, searchTerms=searchTerms,key=key,indices=indices,wait=[1,1.5],combine=False,filePath=filePath, checkAddress=False, limit=limit)"
   ]
  },
  {
   "cell_type": "code",
   "execution_count": null,
   "metadata": {},
   "outputs": [],
   "source": [
    "# timeout after index 515\n",
    "searchTerms = [\"Company Name\", \"Address 1\", \"City\", \"State\"]\n",
    "key = \"Store Company ID\"\n",
    "sourceFile = \"/home/spencer/Documents/Projects/clean/closed_2019.csv\"\n",
    "indices = list(range(516, 1951))\n",
    "filePath = \"/home/spencer/Documents/Projects/scrape/closed_data/\"\n",
    "limit = 3000\n",
    "# simpleScraper(sourceFile=sourceFile, searchTerms=searchTerms,key=key,indices=indices,wait=[1,1.5],combine=False,filePath=filePath, checkAddress=False, limit=limit)"
   ]
  },
  {
   "cell_type": "code",
   "execution_count": null,
   "metadata": {},
   "outputs": [],
   "source": [
    "# timeout after index 1098\n",
    "searchTerms = [\"Company Name\", \"Address 1\", \"City\", \"State\"]\n",
    "key = \"Store Company ID\"\n",
    "sourceFile = \"/home/spencer/Documents/Projects/clean/closed_2019.csv\"\n",
    "indices = list(range(1099, 1951))\n",
    "filePath = \"/home/spencer/Documents/Projects/scrape/closed_data/\"\n",
    "limit = 3000\n",
    "# simpleScraper(sourceFile=sourceFile, searchTerms=searchTerms,key=key,indices=indices,wait=[1,1.5],combine=False,filePath=filePath, checkAddress=False, limit=limit)"
   ]
  },
  {
   "cell_type": "code",
   "execution_count": null,
   "metadata": {},
   "outputs": [],
   "source": [
    "# timeout after index 1500\n",
    "searchTerms = [\"Company Name\", \"Address 1\", \"City\", \"State\"]\n",
    "key = \"Store Company ID\"\n",
    "sourceFile = \"/home/spencer/Documents/Projects/clean/closed_2019.csv\"\n",
    "indices = list(range(1501, 1951))\n",
    "filePath = \"/home/spencer/Documents/Projects/scrape/closed_data/\"\n",
    "limit = 3000\n",
    "# simpleScraper(sourceFile=sourceFile, searchTerms=searchTerms,key=key,indices=indices,wait=[1,1.5],combine=False,filePath=filePath, checkAddress=False, limit=limit)"
   ]
  },
  {
   "cell_type": "code",
   "execution_count": null,
   "metadata": {},
   "outputs": [],
   "source": [
    "# timeout after index 1638\n",
    "searchTerms = [\"Company Name\", \"Address 1\", \"City\", \"State\"]\n",
    "key = \"Store Company ID\"\n",
    "sourceFile = \"/home/spencer/Documents/Projects/clean/closed_2019.csv\"\n",
    "indices = list(range(1639, 1951))\n",
    "filePath = \"/home/spencer/Documents/Projects/scrape/closed_data/\"\n",
    "limit = 3000\n",
    "# simpleScraper(sourceFile=sourceFile, searchTerms=searchTerms,key=key,indices=indices,wait=[1,1.5],combine=False,filePath=filePath, checkAddress=False, limit=limit)"
   ]
  },
  {
   "cell_type": "code",
   "execution_count": null,
   "metadata": {},
   "outputs": [],
   "source": [
    "# timeout after index 1877\n",
    "searchTerms = [\"Company Name\", \"Address 1\", \"City\", \"State\"]\n",
    "key = \"Store Company ID\"\n",
    "sourceFile = \"/home/spencer/Documents/Projects/clean/closed_2019.csv\"\n",
    "indices = list(range(1878, 1951))\n",
    "filePath = \"/home/spencer/Documents/Projects/scrape/closed_data/\"\n",
    "limit = 3000\n",
    "# simpleScraper(sourceFile=sourceFile, searchTerms=searchTerms,key=key,indices=indices,wait=[1,1.5],combine=False,filePath=filePath, checkAddress=False, limit=limit)"
   ]
  }
 ]
}