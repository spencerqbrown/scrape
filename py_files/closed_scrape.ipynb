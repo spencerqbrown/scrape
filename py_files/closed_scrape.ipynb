{
 "metadata": {
  "language_info": {
   "codemirror_mode": {
    "name": "ipython",
    "version": 3
   },
   "file_extension": ".py",
   "mimetype": "text/x-python",
   "name": "python",
   "nbconvert_exporter": "python",
   "pygments_lexer": "ipython3",
   "version": 3
  },
  "orig_nbformat": 2
 },
 "nbformat": 4,
 "nbformat_minor": 2,
 "cells": [
  {
   "cell_type": "code",
   "execution_count": null,
   "metadata": {},
   "outputs": [],
   "source": [
    "# attempting to scrape closed locations, will likely have to stop and continue\n",
    "searchTerms = [\"Company Name\", \"Address 1\", \"City\", \"State\"]\n",
    "key = \"Store Company ID\"\n",
    "sourceFile = \"/home/spencer/Documents/Projects/clean/closed_2019.csv\"\n",
    "indices = list(range(0, 1951))\n",
    "filePath = \"/home/spencer/Documents/Projects/scrape/closed_data/\"\n",
    "# simpleScraper(sourceFile=sourceFile, searchTerms=searchTerms,key=key,indices=indices,wait=[1,1.5],combine=False,filePath=filePath, checkAddress=False)"
   ]
  },
  {
   "cell_type": "code",
   "execution_count": null,
   "metadata": {},
   "outputs": [],
   "source": [
    "# had a large review total at index 41, adjusted scraper to account for it\n",
    "searchTerms = [\"Company Name\", \"Address 1\", \"City\", \"State\"]\n",
    "key = \"Store Company ID\"\n",
    "sourceFile = \"/home/spencer/Documents/Projects/clean/closed_2019.csv\"\n",
    "indices = list(range(41, 1951))\n",
    "filePath = \"/home/spencer/Documents/Projects/scrape/closed_data/\"\n",
    "limit = 3000\n",
    "# simpleScraper(sourceFile=sourceFile, searchTerms=searchTerms,key=key,indices=indices,wait=[1,1.5],combine=False,filePath=filePath, checkAddress=False, limit=limit)"
   ]
  },
  {
   "cell_type": "code",
   "execution_count": null,
   "metadata": {},
   "outputs": [],
   "source": [
    "# timeout after index 515\n",
    "searchTerms = [\"Company Name\", \"Address 1\", \"City\", \"State\"]\n",
    "key = \"Store Company ID\"\n",
    "sourceFile = \"/home/spencer/Documents/Projects/clean/closed_2019.csv\"\n",
    "indices = list(range(516, 1951))\n",
    "filePath = \"/home/spencer/Documents/Projects/scrape/closed_data/\"\n",
    "limit = 3000\n",
    "# simpleScraper(sourceFile=sourceFile, searchTerms=searchTerms,key=key,indices=indices,wait=[1,1.5],combine=False,filePath=filePath, checkAddress=False, limit=limit)"
   ]
  },
  {
   "cell_type": "code",
   "execution_count": null,
   "metadata": {},
   "outputs": [],
   "source": [
    "# timeout after index 1098\n",
    "searchTerms = [\"Company Name\", \"Address 1\", \"City\", \"State\"]\n",
    "key = \"Store Company ID\"\n",
    "sourceFile = \"/home/spencer/Documents/Projects/clean/closed_2019.csv\"\n",
    "indices = list(range(1099, 1951))\n",
    "filePath = \"/home/spencer/Documents/Projects/scrape/closed_data/\"\n",
    "limit = 3000\n",
    "# simpleScraper(sourceFile=sourceFile, searchTerms=searchTerms,key=key,indices=indices,wait=[1,1.5],combine=False,filePath=filePath, checkAddress=False, limit=limit)"
   ]
  },
  {
   "cell_type": "code",
   "execution_count": null,
   "metadata": {},
   "outputs": [],
   "source": [
    "# timeout after index 1500\n",
    "searchTerms = [\"Company Name\", \"Address 1\", \"City\", \"State\"]\n",
    "key = \"Store Company ID\"\n",
    "sourceFile = \"/home/spencer/Documents/Projects/clean/closed_2019.csv\"\n",
    "indices = list(range(1501, 1951))\n",
    "filePath = \"/home/spencer/Documents/Projects/scrape/closed_data/\"\n",
    "limit = 3000\n",
    "# simpleScraper(sourceFile=sourceFile, searchTerms=searchTerms,key=key,indices=indices,wait=[1,1.5],combine=False,filePath=filePath, checkAddress=False, limit=limit)"
   ]
  },
  {
   "cell_type": "code",
   "execution_count": null,
   "metadata": {},
   "outputs": [],
   "source": [
    "# timeout after index 1638\n",
    "searchTerms = [\"Company Name\", \"Address 1\", \"City\", \"State\"]\n",
    "key = \"Store Company ID\"\n",
    "sourceFile = \"/home/spencer/Documents/Projects/clean/closed_2019.csv\"\n",
    "indices = list(range(1639, 1951))\n",
    "filePath = \"/home/spencer/Documents/Projects/scrape/closed_data/\"\n",
    "limit = 3000\n",
    "# simpleScraper(sourceFile=sourceFile, searchTerms=searchTerms,key=key,indices=indices,wait=[1,1.5],combine=False,filePath=filePath, checkAddress=False, limit=limit)"
   ]
  },
  {
   "cell_type": "code",
   "execution_count": null,
   "metadata": {},
   "outputs": [],
   "source": [
    "# timeout after index 1877\n",
    "searchTerms = [\"Company Name\", \"Address 1\", \"City\", \"State\"]\n",
    "key = \"Store Company ID\"\n",
    "sourceFile = \"/home/spencer/Documents/Projects/clean/closed_2019.csv\"\n",
    "indices = list(range(1878, 1951))\n",
    "filePath = \"/home/spencer/Documents/Projects/scrape/closed_data/\"\n",
    "limit = 3000\n",
    "# simpleScraper(sourceFile=sourceFile, searchTerms=searchTerms,key=key,indices=indices,wait=[1,1.5],combine=False,filePath=filePath, checkAddress=False, limit=limit)"
   ]
  },
  {
   "cell_type": "code",
   "execution_count": null,
   "metadata": {},
   "outputs": [],
   "source": [
    "# 2018 closed locations\n",
    "searchTerms = [\"Company Name\", \"Address 1\", \"City\", \"State\"]\n",
    "key = \"Store Company ID\"\n",
    "sourceFile = \"/home/spencer/Documents/Projects/clean/closed_2018.csv\"\n",
    "indices = list(range(0, 1262))\n",
    "filePath = \"/home/spencer/Documents/Projects/scrape/closed_data/\"\n",
    "limit = 3000\n",
    "# simpleScraper(sourceFile=sourceFile, searchTerms=searchTerms,key=key,indices=indices,wait=[1,1.5],combine=False,filePath=filePath, checkAddress=False, limit=limit)"
   ]
  },
  {
   "cell_type": "code",
   "execution_count": null,
   "metadata": {},
   "outputs": [],
   "source": [
    "# weird error after index 986, skipping 987\n",
    "searchTerms = [\"Company Name\", \"Address 1\", \"City\", \"State\"]\n",
    "key = \"Store Company ID\"\n",
    "sourceFile = \"/home/spencer/Documents/Projects/clean/closed_2018.csv\"\n",
    "indices = list(range(988, 1262))\n",
    "filePath = \"/home/spencer/Documents/Projects/scrape/closed_data/\"\n",
    "limit = 3000\n",
    "# simpleScraper(sourceFile=sourceFile, searchTerms=searchTerms,key=key,indices=indices,wait=[1,1.5],combine=False,filePath=filePath, checkAddress=False, limit=limit)"
   ]
  },
  {
   "cell_type": "code",
   "execution_count": null,
   "metadata": {},
   "outputs": [],
   "source": [
    "# closed locations 2017\n",
    "searchTerms = [\"Company Name\", \"Address 1\", \"City\", \"State\"]\n",
    "key = \"Store Company ID\"\n",
    "sourceFile = \"/home/spencer/Documents/Projects/clean/closed_2017.csv\"\n",
    "indices = list(range(0, 1016))\n",
    "filePath = \"/home/spencer/Documents/Projects/scrape/closed_data_2017/\"\n",
    "limit = 2600\n",
    "# simpleScraper(sourceFile=sourceFile, searchTerms=searchTerms,key=key,indices=indices,wait=[1,1.5],combine=False,filePath=filePath, checkAddress=False, limit=limit)"
   ]
  },
  {
   "cell_type": "code",
   "execution_count": null,
   "metadata": {},
   "outputs": [],
   "source": [
    "# closed locations 2016\n",
    "searchTerms = [\"Company Name\", \"Address 1\", \"City\", \"State\"]\n",
    "key = \"Store Company ID\"\n",
    "sourceFile = \"/home/spencer/Documents/Projects/clean/closed_2016.csv\"\n",
    "indices = list(range(0, 686))\n",
    "filePath = \"/home/spencer/Documents/Projects/scrape/closed_data_2016/\"\n",
    "limit = 2600\n",
    "# simpleScraper(sourceFile=sourceFile, searchTerms=searchTerms,key=key,indices=indices,wait=[1,1.5],combine=False,filePath=filePath, checkAddress=False, limit=limit)"
   ]
  },
  {
   "cell_type": "code",
   "execution_count": null,
   "metadata": {},
   "outputs": [],
   "source": [
    "# closed locations 2015\n",
    "searchTerms = [\"Company Name\", \"Address 1\", \"City\", \"State\"]\n",
    "key = \"Store Company ID\"\n",
    "sourceFile = \"/home/spencer/Documents/Projects/clean/closed_2015.csv\"\n",
    "indices = list(range(0, 1764))\n",
    "filePath = \"/home/spencer/Documents/Projects/scrape/closed_data_2015/\"\n",
    "limit = 2600\n",
    "# simpleScraper(sourceFile=sourceFile, searchTerms=searchTerms,key=key,indices=indices,wait=[1,1.5],combine=False,filePath=filePath, checkAddress=False, limit=limit)"
   ]
  },
  {
   "cell_type": "code",
   "execution_count": null,
   "metadata": {},
   "outputs": [],
   "source": [
    "# index 95 was too big\n",
    "searchTerms = [\"Company Name\", \"Address 1\", \"City\", \"State\"]\n",
    "key = \"Store Company ID\"\n",
    "sourceFile = \"/home/spencer/Documents/Projects/clean/closed_2015.csv\"\n",
    "indices = list(range(95, 1764))\n",
    "filePath = \"/home/spencer/Documents/Projects/scrape/closed_data_2015/\"\n",
    "limit = 2500\n",
    "# simpleScraper(sourceFile=sourceFile, searchTerms=searchTerms,key=key,indices=indices,wait=[1,1.5],combine=False,filePath=filePath, checkAddress=False, limit=limit)"
   ]
  },
  {
   "cell_type": "code",
   "execution_count": null,
   "metadata": {},
   "outputs": [],
   "source": [
    "# index 110 was too big\n",
    "searchTerms = [\"Company Name\", \"Address 1\", \"City\", \"State\"]\n",
    "key = \"Store Company ID\"\n",
    "sourceFile = \"/home/spencer/Documents/Projects/clean/closed_2015.csv\"\n",
    "indices = list(range(110, 1764))\n",
    "filePath = \"/home/spencer/Documents/Projects/scrape/closed_data_2015/\"\n",
    "limit = 2400\n",
    "# simpleScraper(sourceFile=sourceFile, searchTerms=searchTerms,key=key,indices=indices,wait=[1,1.5],combine=False,filePath=filePath, checkAddress=False, limit=limit)"
   ]
  },
  {
   "cell_type": "code",
   "execution_count": null,
   "metadata": {},
   "outputs": [],
   "source": [
    "# index 635 failed for some reason\n",
    "searchTerms = [\"Company Name\", \"Address 1\", \"City\", \"State\"]\n",
    "key = \"Store Company ID\"\n",
    "sourceFile = \"/home/spencer/Documents/Projects/clean/closed_2015.csv\"\n",
    "indices = list(range(635, 1764))\n",
    "filePath = \"/home/spencer/Documents/Projects/scrape/closed_data_2015/\"\n",
    "limit = 2400\n",
    "# simpleScraper(sourceFile=sourceFile, searchTerms=searchTerms,key=key,indices=indices,wait=[1,1.5],combine=False,filePath=filePath, checkAddress=False, limit=limit)"
   ]
  },
  {
   "cell_type": "code",
   "execution_count": null,
   "metadata": {},
   "outputs": [],
   "source": [
    "# size failure after index 1585\n",
    "searchTerms = [\"Company Name\", \"Address 1\", \"City\", \"State\"]\n",
    "key = \"Store Company ID\"\n",
    "sourceFile = \"/home/spencer/Documents/Projects/clean/closed_2015.csv\"\n",
    "indices = list(range(1586, 1764))\n",
    "filePath = \"/home/spencer/Documents/Projects/scrape/closed_data_2015/\"\n",
    "limit = 2400\n",
    "# simpleScraper(sourceFile=sourceFile, searchTerms=searchTerms,key=key,indices=indices,wait=[1,1.5],combine=False,filePath=filePath, checkAddress=False, limit=limit)"
   ]
  },
  {
   "cell_type": "code",
   "execution_count": null,
   "metadata": {},
   "outputs": [],
   "source": [
    "# closed locations 2014\n",
    "searchTerms = [\"Company Name\", \"Address 1\", \"City\", \"State\"]\n",
    "key = \"Store Company ID\"\n",
    "sourceFile = \"/home/spencer/Documents/Projects/clean/closed_2014.csv\"\n",
    "indices = list(range(0, 648))\n",
    "filePath = \"/home/spencer/Documents/Projects/scrape/closed_data_2014/\"\n",
    "limit = 2400\n",
    "# simpleScraper(sourceFile=sourceFile, searchTerms=searchTerms,key=key,indices=indices,wait=[1,1.5],combine=False,filePath=filePath, checkAddress=False, limit=limit)"
   ]
  },
  {
   "cell_type": "code",
   "execution_count": null,
   "metadata": {},
   "outputs": [],
   "source": [
    "# index 118 has weird html tags, skipping\n",
    "searchTerms = [\"Company Name\", \"Address 1\", \"City\", \"State\"]\n",
    "key = \"Store Company ID\"\n",
    "sourceFile = \"/home/spencer/Documents/Projects/clean/closed_2014.csv\"\n",
    "indices = list(range(120, 648))\n",
    "filePath = \"/home/spencer/Documents/Projects/scrape/closed_data_2014/\"\n",
    "limit = 2400\n",
    "# simpleScraper(sourceFile=sourceFile, searchTerms=searchTerms,key=key,indices=indices,wait=[1,1.5],combine=False,filePath=filePath, checkAddress=False, limit=limit)"
   ]
  },
  {
   "cell_type": "code",
   "execution_count": null,
   "metadata": {},
   "outputs": [],
   "source": [
    "# closed locations 2013\n",
    "searchTerms = [\"Company Name\", \"Address 1\", \"City\", \"State\"]\n",
    "key = \"Store Company ID\"\n",
    "sourceFile = \"/home/spencer/Documents/Projects/clean/closed_2013.csv\"\n",
    "indices = list(range(0, 669))\n",
    "filePath = \"/home/spencer/Documents/Projects/scrape/closed_data_2013/\"\n",
    "limit = 2400\n",
    "# simpleScraper(sourceFile=sourceFile, searchTerms=searchTerms,key=key,indices=indices,wait=[1,1.5],combine=False,filePath=filePath, checkAddress=False, limit=limit)"
   ]
  },
  {
   "cell_type": "code",
   "execution_count": null,
   "metadata": {},
   "outputs": [],
   "source": [
    "# closed locations 2012\n",
    "searchTerms = [\"Company Name\", \"Address 1\", \"City\", \"State\"]\n",
    "key = \"Store Company ID\"\n",
    "sourceFile = \"/home/spencer/Documents/Projects/clean/closed_2012.csv\"\n",
    "indices = list(range(0, 976))\n",
    "filePath = \"/home/spencer/Documents/Projects/scrape/closed_data_2012/\"\n",
    "limit = 2400\n",
    "# simpleScraper(sourceFile=sourceFile, searchTerms=searchTerms,key=key,indices=indices,wait=[1,1.5],combine=False,filePath=filePath, checkAddress=False, limit=limit)"
   ]
  },
  {
   "cell_type": "code",
   "execution_count": null,
   "metadata": {},
   "outputs": [],
   "source": [
    "# skipping index 337\n",
    "searchTerms = [\"Company Name\", \"Address 1\", \"City\", \"State\"]\n",
    "key = \"Store Company ID\"\n",
    "sourceFile = \"/home/spencer/Documents/Projects/clean/closed_2012.csv\"\n",
    "indices = list(range(338, 976))\n",
    "filePath = \"/home/spencer/Documents/Projects/scrape/closed_data_2012/\"\n",
    "limit = 2400\n",
    "# simpleScraper(sourceFile=sourceFile, searchTerms=searchTerms,key=key,indices=indices,wait=[1,1.5],combine=False,filePath=filePath, checkAddress=False, limit=limit)"
   ]
  },
  {
   "cell_type": "code",
   "execution_count": null,
   "metadata": {},
   "outputs": [],
   "source": [
    "# error at index 672\n",
    "searchTerms = [\"Company Name\", \"Address 1\", \"City\", \"State\"]\n",
    "key = \"Store Company ID\"\n",
    "sourceFile = \"/home/spencer/Documents/Projects/clean/closed_2012.csv\"\n",
    "indices = list(range(672, 976))\n",
    "filePath = \"/home/spencer/Documents/Projects/scrape/closed_data_2012/\"\n",
    "limit = 2400\n",
    "# simpleScraper(sourceFile=sourceFile, searchTerms=searchTerms,key=key,indices=indices,wait=[1,1.5],combine=False,filePath=filePath, checkAddress=False, limit=limit)"
   ]
  }
 ]
}