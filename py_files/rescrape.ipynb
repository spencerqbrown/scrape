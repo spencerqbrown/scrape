{
 "metadata": {
  "language_info": {
   "codemirror_mode": {
    "name": "ipython",
    "version": 3
   },
   "file_extension": ".py",
   "mimetype": "text/x-python",
   "name": "python",
   "nbconvert_exporter": "python",
   "pygments_lexer": "ipython3",
   "version": 3
  },
  "orig_nbformat": 2
 },
 "nbformat": 4,
 "nbformat_minor": 2,
 "cells": [
  {
   "cell_type": "code",
   "execution_count": null,
   "metadata": {},
   "outputs": [],
   "source": [
    "# rescraping blackjack, bostons\n",
    "searchTerms = [\"Company Name\", \"Address 1\", \"City\", \"State\"]\n",
    "key = \"Store Company ID\"\n",
    "sourceFile = \"/home/spencer/Documents/Projects/clean/unscraped_searchable.csv\"\n",
    "indices = list(range(0, 62))\n",
    "filePath = \"/home/spencer/Documents/Projects/clean/temp_data/\"\n",
    "# simpleScraper(sourceFile=sourceFile, searchTerms=searchTerms,key=key,indices=indices,wait=[1,1.5],combine=False,filePath=filePath, checkAddress=False)"
   ]
  },
  {
   "cell_type": "code",
   "execution_count": null,
   "metadata": {},
   "outputs": [],
   "source": [
    "# retrying bostons, which keeps repeating locations\n",
    "searchTerms = [\"Company Name\", \"Address 1\", \"City\", \"State\"]\n",
    "key = \"Store Company ID\"\n",
    "sourceFile = \"/home/spencer/Documents/Projects/clean/unscraped_searchable.csv\"\n",
    "indices = list(range(41, 62))\n",
    "filePath = \"/home/spencer/Documents/Projects/clean/temp_data/\"\n",
    "# simpleScraper(sourceFile=sourceFile, searchTerms=searchTerms,key=key,indices=indices,wait=[1,1.5],combine=False,filePath=filePath, checkAddress=False)"
   ]
  }
 ]
}