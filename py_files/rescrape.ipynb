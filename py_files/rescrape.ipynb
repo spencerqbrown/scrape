{
 "metadata": {
  "language_info": {
   "codemirror_mode": {
    "name": "ipython",
    "version": 3
   },
   "file_extension": ".py",
   "mimetype": "text/x-python",
   "name": "python",
   "nbconvert_exporter": "python",
   "pygments_lexer": "ipython3",
   "version": 3
  },
  "orig_nbformat": 2
 },
 "nbformat": 4,
 "nbformat_minor": 2,
 "cells": [
  {
   "cell_type": "code",
   "execution_count": null,
   "metadata": {},
   "outputs": [],
   "source": [
    "# rescraping blackjack, bostons\n",
    "searchTerms = [\"Company Name\", \"Address 1\", \"City\", \"State\"]\n",
    "key = \"Store Company ID\"\n",
    "sourceFile = \"/home/spencer/Documents/Projects/clean/unscraped_searchable.csv\"\n",
    "indices = list(range(0, 62))\n",
    "filePath = \"/home/spencer/Documents/Projects/clean/temp_data/\"\n",
    "# simpleScraper(sourceFile=sourceFile, searchTerms=searchTerms,key=key,indices=indices,wait=[1,1.5],combine=False,filePath=filePath, checkAddress=False)"
   ]
  },
  {
   "cell_type": "code",
   "execution_count": null,
   "metadata": {},
   "outputs": [],
   "source": [
    "# retrying bostons, which keeps repeating locations\n",
    "searchTerms = [\"Company Name\", \"Address 1\", \"City\", \"State\"]\n",
    "key = \"Store Company ID\"\n",
    "sourceFile = \"/home/spencer/Documents/Projects/clean/unscraped_searchable.csv\"\n",
    "indices = list(range(42, 62))\n",
    "filePath = \"/home/spencer/Documents/Projects/clean/temp_data/\"\n",
    "# simpleScraper(sourceFile=sourceFile, searchTerms=searchTerms,key=key,indices=indices,wait=[1,1.5],combine=False,filePath=filePath, checkAddress=False, alternate=True)"
   ]
  },
  {
   "cell_type": "code",
   "execution_count": 2,
   "metadata": {},
   "outputs": [],
   "source": [
    "# splitting unscrapables by store\n",
    "import pandas as pd \n",
    "unscrapables = pd.read_csv(\"/home/spencer/Documents/Projects/clean/unscraped_unsearchable.csv\")\n",
    "names = unscrapables[\"company_name\"].unique()\n",
    "for name in names:\n",
    "    subset = unscrapables[unscrapables[\"company_name\"]==name]\n",
    "    filename = \"/home/spencer/Documents/Projects/clean/unscraped_master_files/\" + name + \"_unscraped.csv\"\n",
    "    subset.to_csv(filename, index=False)"
   ]
  },
  {
   "cell_type": "code",
   "execution_count": null,
   "metadata": {},
   "outputs": [],
   "source": [
    "# trying unscrapables, doing hungry howies\n",
    "# note: cobalt is not scrapable, has no reviews link\n",
    "searchTerms = [\"Company Name\", \"Address 1\", \"City\", \"State\"]\n",
    "key = \"Store Company ID\"\n",
    "sourceFile = \"/home/spencer/Documents/Projects/clean/unscraped_master_files/hungry_howies_pizza_&_subs_unscraped.csv\"\n",
    "indices = list(range(0, 536))\n",
    "filePath = \"/home/spencer/Documents/Projects/clean/temp_data/unsearchables/\"\n",
    "# simpleScraper(sourceFile=sourceFile, searchTerms=searchTerms,key=key,indices=indices,wait=[1,1.5],combine=False,filePath=filePath, checkAddress=False, alternate=True)"
   ]
  },
  {
   "cell_type": "code",
   "execution_count": null,
   "metadata": {},
   "outputs": [],
   "source": [
    "# failed after 133, trying from 134 on\n",
    "searchTerms = [\"Company Name\", \"Address 1\", \"City\", \"State\"]\n",
    "key = \"Store Company ID\"\n",
    "sourceFile = \"/home/spencer/Documents/Projects/clean/unscraped_master_files/hungry_howies_pizza_&_subs_unscraped.csv\"\n",
    "indices = list(range(134, 536))\n",
    "filePath = \"/home/spencer/Documents/Projects/clean/temp_data/unsearchables/\"\n",
    "# simpleScraper(sourceFile=sourceFile, searchTerms=searchTerms,key=key,indices=indices,wait=[1,1.5],combine=False,filePath=filePath, checkAddress=False, alternate=True)"
   ]
  },
  {
   "cell_type": "code",
   "execution_count": null,
   "metadata": {},
   "outputs": [],
   "source": [
    "# computer froze after index 136, continuing\n",
    "searchTerms = [\"Company Name\", \"Address 1\", \"City\", \"State\"]\n",
    "key = \"Store Company ID\"\n",
    "sourceFile = \"/home/spencer/Documents/Projects/clean/unscraped_master_files/hungry_howies_pizza_&_subs_unscraped.csv\"\n",
    "indices = list(range(137, 536))\n",
    "filePath = \"/home/spencer/Documents/Projects/clean/temp_data/unsearchables/\"\n",
    "# simpleScraper(sourceFile=sourceFile, searchTerms=searchTerms,key=key,indices=indices,wait=[1,1.5],combine=False,filePath=filePath, checkAddress=False, alternate=True)"
   ]
  },
  {
   "cell_type": "code",
   "execution_count": null,
   "metadata": {},
   "outputs": [],
   "source": [
    "# schmizza\n",
    "searchTerms = [\"Company Name\", \"Address 1\", \"City\", \"State\"]\n",
    "key = \"Store Company ID\"\n",
    "sourceFile = \"/home/spencer/Documents/Projects/clean/unscraped_master_files/schmizza_pub_&_grub_unscraped.csv\"\n",
    "indices = list(range(0, 11))\n",
    "filePath = \"/home/spencer/Documents/Projects/clean/temp_data/unsearchables/schmizza_12_04_2020/\"\n",
    "# simpleScraper(sourceFile=sourceFile, searchTerms=searchTerms,key=key,indices=indices,wait=[1,1.5],combine=False,filePath=filePath, checkAddress=False, alternate=True)"
   ]
  },
  {
   "cell_type": "code",
   "execution_count": null,
   "metadata": {},
   "outputs": [],
   "source": [
    "# south philly\n",
    "searchTerms = [\"Company Name\", \"Address 1\", \"City\", \"State\"]\n",
    "key = \"Store Company ID\"\n",
    "sourceFile = \"/home/spencer/Documents/Projects/clean/unscraped_master_files/south_philly_steaks_&_fries_unscraped.csv\"\n",
    "indices = list(range(0, 8))\n",
    "filePath = \"/home/spencer/Documents/Projects/clean/temp_data/unsearchables/south_philly_12_04_2020/\"\n",
    "# simpleScraper(sourceFile=sourceFile, searchTerms=searchTerms,key=key,indices=indices,wait=[1,1.5],combine=False,filePath=filePath, checkAddress=False, alternate=True)"
   ]
  },
  {
   "cell_type": "code",
   "execution_count": null,
   "metadata": {},
   "outputs": [],
   "source": [
    "# the market\n",
    "searchTerms = [\"Company Name\", \"Address 1\", \"City\", \"State\"]\n",
    "key = \"Store Company ID\"\n",
    "sourceFile = \"/home/spencer/Documents/Projects/clean/unscraped_master_files/the_market_unscraped.csv\"\n",
    "indices = list(range(0, 1))\n",
    "filePath = \"/home/spencer/Documents/Projects/clean/temp_data/unsearchables/market_12_04_2020/\"\n",
    "# simpleScraper(sourceFile=sourceFile, searchTerms=searchTerms,key=key,indices=indices,wait=[1,1.5],combine=False,filePath=filePath, checkAddress=False, alternate=True)"
   ]
  },
  {
   "cell_type": "code",
   "execution_count": null,
   "metadata": {},
   "outputs": [],
   "source": [
    "# pizza hut\n",
    "searchTerms = [\"Company Name\", \"Address 1\", \"City\", \"State\"]\n",
    "key = \"Store Company ID\"\n",
    "sourceFile = \"/home/spencer/Documents/Projects/clean/pizza_hut_rescrape.csv\"\n",
    "indices = list(range(0, 1678))\n",
    "filePath = \"/home/spencer/Documents/Projects/clean/temp_data/pizza_hut_12_05_2020/\"\n",
    "# simpleScraper(sourceFile=sourceFile, searchTerms=searchTerms,key=key,indices=indices,wait=[1,1.5],combine=False,filePath=filePath, checkAddress=False, alternate=True)"
   ]
  },
  {
   "cell_type": "code",
   "execution_count": null,
   "metadata": {},
   "outputs": [],
   "source": [
    "# other low count locations\n",
    "searchTerms = [\"Company Name\", \"Address 1\", \"City\", \"State\"]\n",
    "key = \"Store Company ID\"\n",
    "sourceFile = \"/home/spencer/Documents/Projects/clean/low_counts_to_rescrape.csv\"\n",
    "indices = list(range(0, 452))\n",
    "filePath = \"/home/spencer/Documents/Projects/clean/temp_data/others_12_07_2020/\"\n",
    "# simpleScraper(sourceFile=sourceFile, searchTerms=searchTerms,key=key,indices=indices,wait=[1,1.5],combine=False,filePath=filePath, checkAddress=False, alternate=True)"
   ]
  },
  {
   "cell_type": "code",
   "execution_count": null,
   "metadata": {},
   "outputs": [],
   "source": [
    "# other low count locations continued, had to skip large review counts, failed at company id 2000784878\n",
    "# continuing after last location on a dataset without unscrapably large review counts\n",
    "searchTerms = [\"Company Name\", \"Address 1\", \"City\", \"State\"]\n",
    "key = \"Store Company ID\"\n",
    "sourceFile = \"/home/spencer/Documents/Projects/clean/low_rev_scrapable.csv\"\n",
    "indices = list(range(90, 443))\n",
    "filePath = \"/home/spencer/Documents/Projects/clean/temp_data/others_12_07_2020/\"\n",
    "# simpleScraper(sourceFile=sourceFile, searchTerms=searchTerms,key=key,indices=indices,wait=[1,1.5],combine=False,filePath=filePath, checkAddress=False, alternate=True)"
   ]
  },
  {
   "cell_type": "code",
   "execution_count": null,
   "metadata": {},
   "outputs": [],
   "source": [
    "# had to stop due to time constraints, continuing\n",
    "searchTerms = [\"Company Name\", \"Address 1\", \"City\", \"State\"]\n",
    "key = \"Store Company ID\"\n",
    "sourceFile = \"/home/spencer/Documents/Projects/clean/low_rev_scrapable.csv\"\n",
    "indices = list(range(173, 443))\n",
    "filePath = \"/home/spencer/Documents/Projects/clean/temp_data/\"\n",
    "# simpleScraper(sourceFile=sourceFile, searchTerms=searchTerms,key=key,indices=indices,wait=[1,1.5],combine=False,filePath=filePath, checkAddress=False, alternate=True)"
   ]
  },
  {
   "cell_type": "code",
   "execution_count": null,
   "metadata": {},
   "outputs": [],
   "source": [
    "# weird error after one location, continuing\n",
    "searchTerms = [\"Company Name\", \"Address 1\", \"City\", \"State\"]\n",
    "key = \"Store Company ID\"\n",
    "sourceFile = \"/home/spencer/Documents/Projects/clean/low_rev_scrapable.csv\"\n",
    "indices = list(range(175, 443))\n",
    "indices.remove(182)\n",
    "indices.remove(183)\n",
    "filePath = \"/home/spencer/Documents/Projects/clean/temp_data/\"\n",
    "# simpleScraper(sourceFile=sourceFile, searchTerms=searchTerms,key=key,indices=indices,wait=[1,1.5],combine=False,filePath=filePath, checkAddress=False, alternate=True)"
   ]
  },
  {
   "cell_type": "code",
   "execution_count": null,
   "metadata": {},
   "outputs": [],
   "source": [
    "# weird error again, continuing\n",
    "searchTerms = [\"Company Name\", \"Address 1\", \"City\", \"State\"]\n",
    "key = \"Store Company ID\"\n",
    "sourceFile = \"/home/spencer/Documents/Projects/clean/low_rev_scrapable.csv\"\n",
    "indices = list(range(192, 443))\n",
    "filePath = \"/home/spencer/Documents/Projects/clean/temp_data/\"\n",
    "# simpleScraper(sourceFile=sourceFile, searchTerms=searchTerms,key=key,indices=indices,wait=[1,1.5],combine=False,filePath=filePath, checkAddress=False, alternate=True)"
   ]
  },
  {
   "cell_type": "code",
   "execution_count": null,
   "metadata": {},
   "outputs": [],
   "source": [
    "# large unscrapable location, continuing\n",
    "searchTerms = [\"Company Name\", \"Address 1\", \"City\", \"State\"]\n",
    "key = \"Store Company ID\"\n",
    "sourceFile = \"/home/spencer/Documents/Projects/clean/low_rev_scrapable.csv\"\n",
    "indices = list(range(220, 443))\n",
    "filePath = \"/home/spencer/Documents/Projects/clean/temp_data/\"\n",
    "# simpleScraper(sourceFile=sourceFile, searchTerms=searchTerms,key=key,indices=indices,wait=[1,1.5],combine=False,filePath=filePath, checkAddress=False, alternate=True)"
   ]
  },
  {
   "cell_type": "code",
   "execution_count": null,
   "metadata": {},
   "outputs": [],
   "source": [
    "# error, skipping weird location\n",
    "searchTerms = [\"Company Name\", \"Address 1\", \"City\", \"State\"]\n",
    "key = \"Store Company ID\"\n",
    "sourceFile = \"/home/spencer/Documents/Projects/clean/low_rev_scrapable.csv\"\n",
    "indices = list(range(230, 443))\n",
    "filePath = \"/home/spencer/Documents/Projects/clean/temp_data/\"\n",
    "# simpleScraper(sourceFile=sourceFile, searchTerms=searchTerms,key=key,indices=indices,wait=[1,1.5],combine=False,filePath=filePath, checkAddress=False, alternate=True)"
   ]
  },
  {
   "cell_type": "code",
   "execution_count": null,
   "metadata": {},
   "outputs": [],
   "source": [
    "# skipping large location\n",
    "searchTerms = [\"Company Name\", \"Address 1\", \"City\", \"State\"]\n",
    "key = \"Store Company ID\"\n",
    "sourceFile = \"/home/spencer/Documents/Projects/clean/low_rev_scrapable.csv\"\n",
    "indices = list(range(255, 443))\n",
    "filePath = \"/home/spencer/Documents/Projects/clean/temp_data/\"\n",
    "# simpleScraper(sourceFile=sourceFile, searchTerms=searchTerms,key=key,indices=indices,wait=[1,1.5],combine=False,filePath=filePath, checkAddress=False, alternate=True)"
   ]
  }
 ]
}